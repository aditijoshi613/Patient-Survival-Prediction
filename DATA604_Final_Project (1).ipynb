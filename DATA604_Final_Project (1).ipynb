{
  "nbformat": 4,
  "nbformat_minor": 0,
  "metadata": {
    "colab": {
      "provenance": []
    },
    "kernelspec": {
      "name": "python3",
      "display_name": "Python 3"
    },
    "language_info": {
      "name": "python"
    }
  },
  "cells": [
    {
      "cell_type": "code",
      "execution_count": null,
      "metadata": {
        "id": "CNMVGVrfmp5Y"
      },
      "outputs": [],
      "source": [
        "import time\n",
        "import random\n",
        "import pickle\n",
        "import keras\n",
        "import imblearn\n",
        "import numpy as np\n",
        "import pandas as pd\n",
        "from keras import layers\n",
        "import tensorflow as tf\n",
        "import matplotlib.pyplot as plt\n",
        "from collections import Counter\n",
        "from collections import defaultdict\n",
        "from imblearn.over_sampling import SMOTE\n",
        "from sklearn.neighbors import KNeighborsClassifier\n",
        "from sklearn.neighbors import NearestNeighbors\n",
        "from sklearn.metrics import f1_score\n",
        "from sklearn.metrics import accuracy_score\n",
        "from sklearn.metrics import make_scorer\n",
        "from sklearn.model_selection import train_test_split\n",
        "from sklearn.metrics import confusion_matrix\n",
        "from sklearn.model_selection import StratifiedKFold\n",
        "from sklearn.model_selection import GridSearchCV\n",
        "from sklearn import preprocessing\n",
        "from sklearn.decomposition import PCA\n",
        "from sklearn.decomposition import KernelPCA\n",
        "from sklearn.kernel_approximation import Nystroem"
      ]
    },
    {
      "cell_type": "code",
      "source": [
        "from google.colab import drive\n",
        "drive.mount('/content/drive')"
      ],
      "metadata": {
        "colab": {
          "base_uri": "https://localhost:8080/"
        },
        "id": "cuGD3hCSm2ny",
        "outputId": "2b33fefe-8f96-439b-84d8-833c39534171"
      },
      "execution_count": null,
      "outputs": [
        {
          "output_type": "stream",
          "name": "stdout",
          "text": [
            "Mounted at /content/drive\n"
          ]
        }
      ]
    },
    {
      "cell_type": "code",
      "source": [
        "df = pd.read_csv('/content/drive/MyDrive/data604_final_project/dataset.csv')\n",
        "df.head()"
      ],
      "metadata": {
        "colab": {
          "base_uri": "https://localhost:8080/",
          "height": 369
        },
        "id": "WZtWiDb0m4lX",
        "outputId": "7093a360-b4ef-4db0-ffd1-d32633b46a4a"
      },
      "execution_count": null,
      "outputs": [
        {
          "output_type": "execute_result",
          "data": {
            "text/plain": [
              "   encounter_id  patient_id  hospital_id   age    bmi  elective_surgery  \\\n",
              "0         66154       25312          118  68.0  22.73                 0   \n",
              "1        114252       59342           81  77.0  27.42                 0   \n",
              "2        119783       50777          118  25.0  31.95                 0   \n",
              "3         79267       46918          118  81.0  22.64                 1   \n",
              "4         92056       34377           33  19.0    NaN                 0   \n",
              "\n",
              "   ethnicity gender  height           icu_admit_source  ...  \\\n",
              "0  Caucasian      M   180.3                      Floor  ...   \n",
              "1  Caucasian      F   160.0                      Floor  ...   \n",
              "2  Caucasian      F   172.7       Accident & Emergency  ...   \n",
              "3  Caucasian      F   165.1  Operating Room / Recovery  ...   \n",
              "4  Caucasian      M   188.0       Accident & Emergency  ...   \n",
              "\n",
              "   diabetes_mellitus hepatic_failure immunosuppression  leukemia  lymphoma  \\\n",
              "0                1.0             0.0               0.0       0.0       0.0   \n",
              "1                1.0             0.0               0.0       0.0       0.0   \n",
              "2                0.0             0.0               0.0       0.0       0.0   \n",
              "3                0.0             0.0               0.0       0.0       0.0   \n",
              "4                0.0             0.0               0.0       0.0       0.0   \n",
              "\n",
              "   solid_tumor_with_metastasis  apache_3j_bodysystem  apache_2_bodysystem  \\\n",
              "0                          0.0                Sepsis       Cardiovascular   \n",
              "1                          0.0           Respiratory          Respiratory   \n",
              "2                          0.0             Metabolic            Metabolic   \n",
              "3                          0.0        Cardiovascular       Cardiovascular   \n",
              "4                          0.0                Trauma               Trauma   \n",
              "\n",
              "   Unnamed: 83  hospital_death  \n",
              "0          NaN               0  \n",
              "1          NaN               0  \n",
              "2          NaN               0  \n",
              "3          NaN               0  \n",
              "4          NaN               0  \n",
              "\n",
              "[5 rows x 85 columns]"
            ],
            "text/html": [
              "\n",
              "  <div id=\"df-e13bd23b-7726-44cc-ae70-34f58d7c5970\">\n",
              "    <div class=\"colab-df-container\">\n",
              "      <div>\n",
              "<style scoped>\n",
              "    .dataframe tbody tr th:only-of-type {\n",
              "        vertical-align: middle;\n",
              "    }\n",
              "\n",
              "    .dataframe tbody tr th {\n",
              "        vertical-align: top;\n",
              "    }\n",
              "\n",
              "    .dataframe thead th {\n",
              "        text-align: right;\n",
              "    }\n",
              "</style>\n",
              "<table border=\"1\" class=\"dataframe\">\n",
              "  <thead>\n",
              "    <tr style=\"text-align: right;\">\n",
              "      <th></th>\n",
              "      <th>encounter_id</th>\n",
              "      <th>patient_id</th>\n",
              "      <th>hospital_id</th>\n",
              "      <th>age</th>\n",
              "      <th>bmi</th>\n",
              "      <th>elective_surgery</th>\n",
              "      <th>ethnicity</th>\n",
              "      <th>gender</th>\n",
              "      <th>height</th>\n",
              "      <th>icu_admit_source</th>\n",
              "      <th>...</th>\n",
              "      <th>diabetes_mellitus</th>\n",
              "      <th>hepatic_failure</th>\n",
              "      <th>immunosuppression</th>\n",
              "      <th>leukemia</th>\n",
              "      <th>lymphoma</th>\n",
              "      <th>solid_tumor_with_metastasis</th>\n",
              "      <th>apache_3j_bodysystem</th>\n",
              "      <th>apache_2_bodysystem</th>\n",
              "      <th>Unnamed: 83</th>\n",
              "      <th>hospital_death</th>\n",
              "    </tr>\n",
              "  </thead>\n",
              "  <tbody>\n",
              "    <tr>\n",
              "      <th>0</th>\n",
              "      <td>66154</td>\n",
              "      <td>25312</td>\n",
              "      <td>118</td>\n",
              "      <td>68.0</td>\n",
              "      <td>22.73</td>\n",
              "      <td>0</td>\n",
              "      <td>Caucasian</td>\n",
              "      <td>M</td>\n",
              "      <td>180.3</td>\n",
              "      <td>Floor</td>\n",
              "      <td>...</td>\n",
              "      <td>1.0</td>\n",
              "      <td>0.0</td>\n",
              "      <td>0.0</td>\n",
              "      <td>0.0</td>\n",
              "      <td>0.0</td>\n",
              "      <td>0.0</td>\n",
              "      <td>Sepsis</td>\n",
              "      <td>Cardiovascular</td>\n",
              "      <td>NaN</td>\n",
              "      <td>0</td>\n",
              "    </tr>\n",
              "    <tr>\n",
              "      <th>1</th>\n",
              "      <td>114252</td>\n",
              "      <td>59342</td>\n",
              "      <td>81</td>\n",
              "      <td>77.0</td>\n",
              "      <td>27.42</td>\n",
              "      <td>0</td>\n",
              "      <td>Caucasian</td>\n",
              "      <td>F</td>\n",
              "      <td>160.0</td>\n",
              "      <td>Floor</td>\n",
              "      <td>...</td>\n",
              "      <td>1.0</td>\n",
              "      <td>0.0</td>\n",
              "      <td>0.0</td>\n",
              "      <td>0.0</td>\n",
              "      <td>0.0</td>\n",
              "      <td>0.0</td>\n",
              "      <td>Respiratory</td>\n",
              "      <td>Respiratory</td>\n",
              "      <td>NaN</td>\n",
              "      <td>0</td>\n",
              "    </tr>\n",
              "    <tr>\n",
              "      <th>2</th>\n",
              "      <td>119783</td>\n",
              "      <td>50777</td>\n",
              "      <td>118</td>\n",
              "      <td>25.0</td>\n",
              "      <td>31.95</td>\n",
              "      <td>0</td>\n",
              "      <td>Caucasian</td>\n",
              "      <td>F</td>\n",
              "      <td>172.7</td>\n",
              "      <td>Accident &amp; Emergency</td>\n",
              "      <td>...</td>\n",
              "      <td>0.0</td>\n",
              "      <td>0.0</td>\n",
              "      <td>0.0</td>\n",
              "      <td>0.0</td>\n",
              "      <td>0.0</td>\n",
              "      <td>0.0</td>\n",
              "      <td>Metabolic</td>\n",
              "      <td>Metabolic</td>\n",
              "      <td>NaN</td>\n",
              "      <td>0</td>\n",
              "    </tr>\n",
              "    <tr>\n",
              "      <th>3</th>\n",
              "      <td>79267</td>\n",
              "      <td>46918</td>\n",
              "      <td>118</td>\n",
              "      <td>81.0</td>\n",
              "      <td>22.64</td>\n",
              "      <td>1</td>\n",
              "      <td>Caucasian</td>\n",
              "      <td>F</td>\n",
              "      <td>165.1</td>\n",
              "      <td>Operating Room / Recovery</td>\n",
              "      <td>...</td>\n",
              "      <td>0.0</td>\n",
              "      <td>0.0</td>\n",
              "      <td>0.0</td>\n",
              "      <td>0.0</td>\n",
              "      <td>0.0</td>\n",
              "      <td>0.0</td>\n",
              "      <td>Cardiovascular</td>\n",
              "      <td>Cardiovascular</td>\n",
              "      <td>NaN</td>\n",
              "      <td>0</td>\n",
              "    </tr>\n",
              "    <tr>\n",
              "      <th>4</th>\n",
              "      <td>92056</td>\n",
              "      <td>34377</td>\n",
              "      <td>33</td>\n",
              "      <td>19.0</td>\n",
              "      <td>NaN</td>\n",
              "      <td>0</td>\n",
              "      <td>Caucasian</td>\n",
              "      <td>M</td>\n",
              "      <td>188.0</td>\n",
              "      <td>Accident &amp; Emergency</td>\n",
              "      <td>...</td>\n",
              "      <td>0.0</td>\n",
              "      <td>0.0</td>\n",
              "      <td>0.0</td>\n",
              "      <td>0.0</td>\n",
              "      <td>0.0</td>\n",
              "      <td>0.0</td>\n",
              "      <td>Trauma</td>\n",
              "      <td>Trauma</td>\n",
              "      <td>NaN</td>\n",
              "      <td>0</td>\n",
              "    </tr>\n",
              "  </tbody>\n",
              "</table>\n",
              "<p>5 rows × 85 columns</p>\n",
              "</div>\n",
              "      <button class=\"colab-df-convert\" onclick=\"convertToInteractive('df-e13bd23b-7726-44cc-ae70-34f58d7c5970')\"\n",
              "              title=\"Convert this dataframe to an interactive table.\"\n",
              "              style=\"display:none;\">\n",
              "        \n",
              "  <svg xmlns=\"http://www.w3.org/2000/svg\" height=\"24px\"viewBox=\"0 0 24 24\"\n",
              "       width=\"24px\">\n",
              "    <path d=\"M0 0h24v24H0V0z\" fill=\"none\"/>\n",
              "    <path d=\"M18.56 5.44l.94 2.06.94-2.06 2.06-.94-2.06-.94-.94-2.06-.94 2.06-2.06.94zm-11 1L8.5 8.5l.94-2.06 2.06-.94-2.06-.94L8.5 2.5l-.94 2.06-2.06.94zm10 10l.94 2.06.94-2.06 2.06-.94-2.06-.94-.94-2.06-.94 2.06-2.06.94z\"/><path d=\"M17.41 7.96l-1.37-1.37c-.4-.4-.92-.59-1.43-.59-.52 0-1.04.2-1.43.59L10.3 9.45l-7.72 7.72c-.78.78-.78 2.05 0 2.83L4 21.41c.39.39.9.59 1.41.59.51 0 1.02-.2 1.41-.59l7.78-7.78 2.81-2.81c.8-.78.8-2.07 0-2.86zM5.41 20L4 18.59l7.72-7.72 1.47 1.35L5.41 20z\"/>\n",
              "  </svg>\n",
              "      </button>\n",
              "      \n",
              "  <style>\n",
              "    .colab-df-container {\n",
              "      display:flex;\n",
              "      flex-wrap:wrap;\n",
              "      gap: 12px;\n",
              "    }\n",
              "\n",
              "    .colab-df-convert {\n",
              "      background-color: #E8F0FE;\n",
              "      border: none;\n",
              "      border-radius: 50%;\n",
              "      cursor: pointer;\n",
              "      display: none;\n",
              "      fill: #1967D2;\n",
              "      height: 32px;\n",
              "      padding: 0 0 0 0;\n",
              "      width: 32px;\n",
              "    }\n",
              "\n",
              "    .colab-df-convert:hover {\n",
              "      background-color: #E2EBFA;\n",
              "      box-shadow: 0px 1px 2px rgba(60, 64, 67, 0.3), 0px 1px 3px 1px rgba(60, 64, 67, 0.15);\n",
              "      fill: #174EA6;\n",
              "    }\n",
              "\n",
              "    [theme=dark] .colab-df-convert {\n",
              "      background-color: #3B4455;\n",
              "      fill: #D2E3FC;\n",
              "    }\n",
              "\n",
              "    [theme=dark] .colab-df-convert:hover {\n",
              "      background-color: #434B5C;\n",
              "      box-shadow: 0px 1px 3px 1px rgba(0, 0, 0, 0.15);\n",
              "      filter: drop-shadow(0px 1px 2px rgba(0, 0, 0, 0.3));\n",
              "      fill: #FFFFFF;\n",
              "    }\n",
              "  </style>\n",
              "\n",
              "      <script>\n",
              "        const buttonEl =\n",
              "          document.querySelector('#df-e13bd23b-7726-44cc-ae70-34f58d7c5970 button.colab-df-convert');\n",
              "        buttonEl.style.display =\n",
              "          google.colab.kernel.accessAllowed ? 'block' : 'none';\n",
              "\n",
              "        async function convertToInteractive(key) {\n",
              "          const element = document.querySelector('#df-e13bd23b-7726-44cc-ae70-34f58d7c5970');\n",
              "          const dataTable =\n",
              "            await google.colab.kernel.invokeFunction('convertToInteractive',\n",
              "                                                     [key], {});\n",
              "          if (!dataTable) return;\n",
              "\n",
              "          const docLinkHtml = 'Like what you see? Visit the ' +\n",
              "            '<a target=\"_blank\" href=https://colab.research.google.com/notebooks/data_table.ipynb>data table notebook</a>'\n",
              "            + ' to learn more about interactive tables.';\n",
              "          element.innerHTML = '';\n",
              "          dataTable['output_type'] = 'display_data';\n",
              "          await google.colab.output.renderOutput(dataTable, element);\n",
              "          const docLink = document.createElement('div');\n",
              "          docLink.innerHTML = docLinkHtml;\n",
              "          element.appendChild(docLink);\n",
              "        }\n",
              "      </script>\n",
              "    </div>\n",
              "  </div>\n",
              "  "
            ]
          },
          "metadata": {},
          "execution_count": 3
        }
      ]
    },
    {
      "cell_type": "code",
      "source": [
        "df.info()"
      ],
      "metadata": {
        "colab": {
          "base_uri": "https://localhost:8080/"
        },
        "id": "s6LHy_GPrWkU",
        "outputId": "f7a3f7c8-53f8-471f-9b45-d9ec8586a188"
      },
      "execution_count": null,
      "outputs": [
        {
          "output_type": "stream",
          "name": "stdout",
          "text": [
            "<class 'pandas.core.frame.DataFrame'>\n",
            "RangeIndex: 91713 entries, 0 to 91712\n",
            "Data columns (total 85 columns):\n",
            " #   Column                         Non-Null Count  Dtype  \n",
            "---  ------                         --------------  -----  \n",
            " 0   encounter_id                   91713 non-null  int64  \n",
            " 1   patient_id                     91713 non-null  int64  \n",
            " 2   hospital_id                    91713 non-null  int64  \n",
            " 3   age                            87485 non-null  float64\n",
            " 4   bmi                            88284 non-null  float64\n",
            " 5   elective_surgery               91713 non-null  int64  \n",
            " 6   ethnicity                      90318 non-null  object \n",
            " 7   gender                         91688 non-null  object \n",
            " 8   height                         90379 non-null  float64\n",
            " 9   icu_admit_source               91601 non-null  object \n",
            " 10  icu_id                         91713 non-null  int64  \n",
            " 11  icu_stay_type                  91713 non-null  object \n",
            " 12  icu_type                       91713 non-null  object \n",
            " 13  pre_icu_los_days               91713 non-null  float64\n",
            " 14  weight                         88993 non-null  float64\n",
            " 15  apache_2_diagnosis             90051 non-null  float64\n",
            " 16  apache_3j_diagnosis            90612 non-null  float64\n",
            " 17  apache_post_operative          91713 non-null  int64  \n",
            " 18  arf_apache                     90998 non-null  float64\n",
            " 19  gcs_eyes_apache                89812 non-null  float64\n",
            " 20  gcs_motor_apache               89812 non-null  float64\n",
            " 21  gcs_unable_apache              90676 non-null  float64\n",
            " 22  gcs_verbal_apache              89812 non-null  float64\n",
            " 23  heart_rate_apache              90835 non-null  float64\n",
            " 24  intubated_apache               90998 non-null  float64\n",
            " 25  map_apache                     90719 non-null  float64\n",
            " 26  resprate_apache                90479 non-null  float64\n",
            " 27  temp_apache                    87605 non-null  float64\n",
            " 28  ventilated_apache              90998 non-null  float64\n",
            " 29  d1_diasbp_max                  91548 non-null  float64\n",
            " 30  d1_diasbp_min                  91548 non-null  float64\n",
            " 31  d1_diasbp_noninvasive_max      90673 non-null  float64\n",
            " 32  d1_diasbp_noninvasive_min      90673 non-null  float64\n",
            " 33  d1_heartrate_max               91568 non-null  float64\n",
            " 34  d1_heartrate_min               91568 non-null  float64\n",
            " 35  d1_mbp_max                     91493 non-null  float64\n",
            " 36  d1_mbp_min                     91493 non-null  float64\n",
            " 37  d1_mbp_noninvasive_max         90234 non-null  float64\n",
            " 38  d1_mbp_noninvasive_min         90234 non-null  float64\n",
            " 39  d1_resprate_max                91328 non-null  float64\n",
            " 40  d1_resprate_min                91328 non-null  float64\n",
            " 41  d1_spo2_max                    91380 non-null  float64\n",
            " 42  d1_spo2_min                    91380 non-null  float64\n",
            " 43  d1_sysbp_max                   91554 non-null  float64\n",
            " 44  d1_sysbp_min                   91554 non-null  float64\n",
            " 45  d1_sysbp_noninvasive_max       90686 non-null  float64\n",
            " 46  d1_sysbp_noninvasive_min       90686 non-null  float64\n",
            " 47  d1_temp_max                    89389 non-null  float64\n",
            " 48  d1_temp_min                    89389 non-null  float64\n",
            " 49  h1_diasbp_max                  88094 non-null  float64\n",
            " 50  h1_diasbp_min                  88094 non-null  float64\n",
            " 51  h1_diasbp_noninvasive_max      84363 non-null  float64\n",
            " 52  h1_diasbp_noninvasive_min      84363 non-null  float64\n",
            " 53  h1_heartrate_max               88923 non-null  float64\n",
            " 54  h1_heartrate_min               88923 non-null  float64\n",
            " 55  h1_mbp_max                     87074 non-null  float64\n",
            " 56  h1_mbp_min                     87074 non-null  float64\n",
            " 57  h1_mbp_noninvasive_max         82629 non-null  float64\n",
            " 58  h1_mbp_noninvasive_min         82629 non-null  float64\n",
            " 59  h1_resprate_max                87356 non-null  float64\n",
            " 60  h1_resprate_min                87356 non-null  float64\n",
            " 61  h1_spo2_max                    87528 non-null  float64\n",
            " 62  h1_spo2_min                    87528 non-null  float64\n",
            " 63  h1_sysbp_max                   88102 non-null  float64\n",
            " 64  h1_sysbp_min                   88102 non-null  float64\n",
            " 65  h1_sysbp_noninvasive_max       84372 non-null  float64\n",
            " 66  h1_sysbp_noninvasive_min       84372 non-null  float64\n",
            " 67  d1_glucose_max                 85906 non-null  float64\n",
            " 68  d1_glucose_min                 85906 non-null  float64\n",
            " 69  d1_potassium_max               82128 non-null  float64\n",
            " 70  d1_potassium_min               82128 non-null  float64\n",
            " 71  apache_4a_hospital_death_prob  83766 non-null  float64\n",
            " 72  apache_4a_icu_death_prob       83766 non-null  float64\n",
            " 73  aids                           90998 non-null  float64\n",
            " 74  cirrhosis                      90998 non-null  float64\n",
            " 75  diabetes_mellitus              90998 non-null  float64\n",
            " 76  hepatic_failure                90998 non-null  float64\n",
            " 77  immunosuppression              90998 non-null  float64\n",
            " 78  leukemia                       90998 non-null  float64\n",
            " 79  lymphoma                       90998 non-null  float64\n",
            " 80  solid_tumor_with_metastasis    90998 non-null  float64\n",
            " 81  apache_3j_bodysystem           90051 non-null  object \n",
            " 82  apache_2_bodysystem            90051 non-null  object \n",
            " 83  Unnamed: 83                    0 non-null      float64\n",
            " 84  hospital_death                 91713 non-null  int64  \n",
            "dtypes: float64(71), int64(7), object(7)\n",
            "memory usage: 59.5+ MB\n"
          ]
        }
      ]
    },
    {
      "cell_type": "code",
      "source": [
        "# drop columns like encounter_id and patient_id since they are not numerical or categorical\n",
        "df = df.drop(['encounter_id','patient_id','hospital_id','icu_id','Unnamed: 83'],axis=1)\n",
        "# drop rows with NULL values\n",
        "df.dropna(inplace=True)\n",
        "# replace strings with categories in numbers, replace null values and other/unknown with a 0\n",
        "df['ethnicity'].replace(['Caucasian', 'Hispanic', 'African American', 'Asian',\n",
        "       'Native American', 'Other/Unknown'],[1,2,3,4,5,0], inplace=True)\n",
        "df['gender'].replace(['M', 'F'],[1,2], inplace=True)\n",
        "df['icu_admit_source'].replace(['Floor', 'Accident & Emergency', 'Operating Room / Recovery',\n",
        "       'Other Hospital', 'Other ICU'],[1,2,3,4,5], inplace=True)\n",
        "df['icu_stay_type'].replace(['admit', 'readmit', 'transfer'],[0,1,2],inplace=True)\n",
        "df['icu_type'].replace(['CTICU', 'Med-Surg ICU', 'CCU-CTICU', 'Neuro ICU', 'MICU', 'SICU',\n",
        "       'Cardiac ICU', 'CSICU'],[0,1,2,3,4,5,6,7],inplace=True)\n",
        "df['apache_3j_bodysystem'].replace(['Sepsis', 'Respiratory', 'Metabolic', 'Cardiovascular', 'Trauma',\n",
        "       'Neurological', 'Gastrointestinal', 'Genitourinary',\n",
        "       'Hematological', 'Musculoskeletal/Skin', 'Gynecological'],[1,2,3,4,5,6,7,8,9,10,11],inplace=True)\n",
        "df['apache_2_bodysystem'].replace(['Cardiovascular', 'Respiratory', 'Metabolic', 'Trauma',\n",
        "       'Neurologic', 'Gastrointestinal', 'Renal/Genitourinary',\n",
        "       'Undefined diagnoses', 'Haematologic', 'Undefined Diagnoses'],[0,1,2,3,4,5,6,7,8,9],inplace=True)\n"
      ],
      "metadata": {
        "id": "HBBqaOXAq5JE"
      },
      "execution_count": null,
      "outputs": []
    },
    {
      "cell_type": "code",
      "source": [
        "# sort the dataframe with respect to the class labels\n",
        "df = df.sort_values(by='hospital_death')\n",
        "df.reset_index(drop=True, inplace=True)"
      ],
      "metadata": {
        "id": "MaQC0lOUwEmK"
      },
      "execution_count": null,
      "outputs": []
    },
    {
      "cell_type": "code",
      "source": [
        "X = df.drop(['hospital_death'],axis=1)\n",
        "y = df['hospital_death']\n",
        "X.head()"
      ],
      "metadata": {
        "colab": {
          "base_uri": "https://localhost:8080/",
          "height": 300
        },
        "id": "ROpJP3CXqCuA",
        "outputId": "1697beb7-8755-474e-eb5b-376938b59932"
      },
      "execution_count": null,
      "outputs": [
        {
          "output_type": "execute_result",
          "data": {
            "text/plain": [
              "    age        bmi  elective_surgery  ethnicity  gender  height  \\\n",
              "0  68.0  22.730000                 0          1       1   180.3   \n",
              "1  32.0  27.083520                 0          3       1   183.0   \n",
              "2  84.0  43.450039                 0          1       2   157.0   \n",
              "3  84.0  26.629936                 0          1       2   165.0   \n",
              "4  58.0  29.238754                 0          1       1   170.0   \n",
              "\n",
              "   icu_admit_source  icu_stay_type  icu_type  pre_icu_los_days  ...  aids  \\\n",
              "0                 1              0         0          0.541667  ...   0.0   \n",
              "1                 2              0         6          0.045139  ...   0.0   \n",
              "2                 2              0         3          0.032639  ...   0.0   \n",
              "3                 3              0         6          7.091667  ...   0.0   \n",
              "4                 2              0         2          0.027778  ...   0.0   \n",
              "\n",
              "   cirrhosis  diabetes_mellitus  hepatic_failure  immunosuppression  leukemia  \\\n",
              "0        0.0                1.0              0.0                0.0       0.0   \n",
              "1        0.0                0.0              0.0                0.0       0.0   \n",
              "2        0.0                0.0              0.0                0.0       0.0   \n",
              "3        0.0                0.0              0.0                0.0       0.0   \n",
              "4        0.0                0.0              0.0                0.0       0.0   \n",
              "\n",
              "   lymphoma  solid_tumor_with_metastasis  apache_3j_bodysystem  \\\n",
              "0       0.0                          0.0                     1   \n",
              "1       0.0                          0.0                    10   \n",
              "2       0.0                          0.0                     6   \n",
              "3       0.0                          0.0                     9   \n",
              "4       0.0                          0.0                     4   \n",
              "\n",
              "   apache_2_bodysystem  \n",
              "0                    0  \n",
              "1                    9  \n",
              "2                    4  \n",
              "3                    8  \n",
              "4                    0  \n",
              "\n",
              "[5 rows x 79 columns]"
            ],
            "text/html": [
              "\n",
              "  <div id=\"df-0062299d-f1ff-41d8-8c7f-8ff1807f568a\">\n",
              "    <div class=\"colab-df-container\">\n",
              "      <div>\n",
              "<style scoped>\n",
              "    .dataframe tbody tr th:only-of-type {\n",
              "        vertical-align: middle;\n",
              "    }\n",
              "\n",
              "    .dataframe tbody tr th {\n",
              "        vertical-align: top;\n",
              "    }\n",
              "\n",
              "    .dataframe thead th {\n",
              "        text-align: right;\n",
              "    }\n",
              "</style>\n",
              "<table border=\"1\" class=\"dataframe\">\n",
              "  <thead>\n",
              "    <tr style=\"text-align: right;\">\n",
              "      <th></th>\n",
              "      <th>age</th>\n",
              "      <th>bmi</th>\n",
              "      <th>elective_surgery</th>\n",
              "      <th>ethnicity</th>\n",
              "      <th>gender</th>\n",
              "      <th>height</th>\n",
              "      <th>icu_admit_source</th>\n",
              "      <th>icu_stay_type</th>\n",
              "      <th>icu_type</th>\n",
              "      <th>pre_icu_los_days</th>\n",
              "      <th>...</th>\n",
              "      <th>aids</th>\n",
              "      <th>cirrhosis</th>\n",
              "      <th>diabetes_mellitus</th>\n",
              "      <th>hepatic_failure</th>\n",
              "      <th>immunosuppression</th>\n",
              "      <th>leukemia</th>\n",
              "      <th>lymphoma</th>\n",
              "      <th>solid_tumor_with_metastasis</th>\n",
              "      <th>apache_3j_bodysystem</th>\n",
              "      <th>apache_2_bodysystem</th>\n",
              "    </tr>\n",
              "  </thead>\n",
              "  <tbody>\n",
              "    <tr>\n",
              "      <th>0</th>\n",
              "      <td>68.0</td>\n",
              "      <td>22.730000</td>\n",
              "      <td>0</td>\n",
              "      <td>1</td>\n",
              "      <td>1</td>\n",
              "      <td>180.3</td>\n",
              "      <td>1</td>\n",
              "      <td>0</td>\n",
              "      <td>0</td>\n",
              "      <td>0.541667</td>\n",
              "      <td>...</td>\n",
              "      <td>0.0</td>\n",
              "      <td>0.0</td>\n",
              "      <td>1.0</td>\n",
              "      <td>0.0</td>\n",
              "      <td>0.0</td>\n",
              "      <td>0.0</td>\n",
              "      <td>0.0</td>\n",
              "      <td>0.0</td>\n",
              "      <td>1</td>\n",
              "      <td>0</td>\n",
              "    </tr>\n",
              "    <tr>\n",
              "      <th>1</th>\n",
              "      <td>32.0</td>\n",
              "      <td>27.083520</td>\n",
              "      <td>0</td>\n",
              "      <td>3</td>\n",
              "      <td>1</td>\n",
              "      <td>183.0</td>\n",
              "      <td>2</td>\n",
              "      <td>0</td>\n",
              "      <td>6</td>\n",
              "      <td>0.045139</td>\n",
              "      <td>...</td>\n",
              "      <td>0.0</td>\n",
              "      <td>0.0</td>\n",
              "      <td>0.0</td>\n",
              "      <td>0.0</td>\n",
              "      <td>0.0</td>\n",
              "      <td>0.0</td>\n",
              "      <td>0.0</td>\n",
              "      <td>0.0</td>\n",
              "      <td>10</td>\n",
              "      <td>9</td>\n",
              "    </tr>\n",
              "    <tr>\n",
              "      <th>2</th>\n",
              "      <td>84.0</td>\n",
              "      <td>43.450039</td>\n",
              "      <td>0</td>\n",
              "      <td>1</td>\n",
              "      <td>2</td>\n",
              "      <td>157.0</td>\n",
              "      <td>2</td>\n",
              "      <td>0</td>\n",
              "      <td>3</td>\n",
              "      <td>0.032639</td>\n",
              "      <td>...</td>\n",
              "      <td>0.0</td>\n",
              "      <td>0.0</td>\n",
              "      <td>0.0</td>\n",
              "      <td>0.0</td>\n",
              "      <td>0.0</td>\n",
              "      <td>0.0</td>\n",
              "      <td>0.0</td>\n",
              "      <td>0.0</td>\n",
              "      <td>6</td>\n",
              "      <td>4</td>\n",
              "    </tr>\n",
              "    <tr>\n",
              "      <th>3</th>\n",
              "      <td>84.0</td>\n",
              "      <td>26.629936</td>\n",
              "      <td>0</td>\n",
              "      <td>1</td>\n",
              "      <td>2</td>\n",
              "      <td>165.0</td>\n",
              "      <td>3</td>\n",
              "      <td>0</td>\n",
              "      <td>6</td>\n",
              "      <td>7.091667</td>\n",
              "      <td>...</td>\n",
              "      <td>0.0</td>\n",
              "      <td>0.0</td>\n",
              "      <td>0.0</td>\n",
              "      <td>0.0</td>\n",
              "      <td>0.0</td>\n",
              "      <td>0.0</td>\n",
              "      <td>0.0</td>\n",
              "      <td>0.0</td>\n",
              "      <td>9</td>\n",
              "      <td>8</td>\n",
              "    </tr>\n",
              "    <tr>\n",
              "      <th>4</th>\n",
              "      <td>58.0</td>\n",
              "      <td>29.238754</td>\n",
              "      <td>0</td>\n",
              "      <td>1</td>\n",
              "      <td>1</td>\n",
              "      <td>170.0</td>\n",
              "      <td>2</td>\n",
              "      <td>0</td>\n",
              "      <td>2</td>\n",
              "      <td>0.027778</td>\n",
              "      <td>...</td>\n",
              "      <td>0.0</td>\n",
              "      <td>0.0</td>\n",
              "      <td>0.0</td>\n",
              "      <td>0.0</td>\n",
              "      <td>0.0</td>\n",
              "      <td>0.0</td>\n",
              "      <td>0.0</td>\n",
              "      <td>0.0</td>\n",
              "      <td>4</td>\n",
              "      <td>0</td>\n",
              "    </tr>\n",
              "  </tbody>\n",
              "</table>\n",
              "<p>5 rows × 79 columns</p>\n",
              "</div>\n",
              "      <button class=\"colab-df-convert\" onclick=\"convertToInteractive('df-0062299d-f1ff-41d8-8c7f-8ff1807f568a')\"\n",
              "              title=\"Convert this dataframe to an interactive table.\"\n",
              "              style=\"display:none;\">\n",
              "        \n",
              "  <svg xmlns=\"http://www.w3.org/2000/svg\" height=\"24px\"viewBox=\"0 0 24 24\"\n",
              "       width=\"24px\">\n",
              "    <path d=\"M0 0h24v24H0V0z\" fill=\"none\"/>\n",
              "    <path d=\"M18.56 5.44l.94 2.06.94-2.06 2.06-.94-2.06-.94-.94-2.06-.94 2.06-2.06.94zm-11 1L8.5 8.5l.94-2.06 2.06-.94-2.06-.94L8.5 2.5l-.94 2.06-2.06.94zm10 10l.94 2.06.94-2.06 2.06-.94-2.06-.94-.94-2.06-.94 2.06-2.06.94z\"/><path d=\"M17.41 7.96l-1.37-1.37c-.4-.4-.92-.59-1.43-.59-.52 0-1.04.2-1.43.59L10.3 9.45l-7.72 7.72c-.78.78-.78 2.05 0 2.83L4 21.41c.39.39.9.59 1.41.59.51 0 1.02-.2 1.41-.59l7.78-7.78 2.81-2.81c.8-.78.8-2.07 0-2.86zM5.41 20L4 18.59l7.72-7.72 1.47 1.35L5.41 20z\"/>\n",
              "  </svg>\n",
              "      </button>\n",
              "      \n",
              "  <style>\n",
              "    .colab-df-container {\n",
              "      display:flex;\n",
              "      flex-wrap:wrap;\n",
              "      gap: 12px;\n",
              "    }\n",
              "\n",
              "    .colab-df-convert {\n",
              "      background-color: #E8F0FE;\n",
              "      border: none;\n",
              "      border-radius: 50%;\n",
              "      cursor: pointer;\n",
              "      display: none;\n",
              "      fill: #1967D2;\n",
              "      height: 32px;\n",
              "      padding: 0 0 0 0;\n",
              "      width: 32px;\n",
              "    }\n",
              "\n",
              "    .colab-df-convert:hover {\n",
              "      background-color: #E2EBFA;\n",
              "      box-shadow: 0px 1px 2px rgba(60, 64, 67, 0.3), 0px 1px 3px 1px rgba(60, 64, 67, 0.15);\n",
              "      fill: #174EA6;\n",
              "    }\n",
              "\n",
              "    [theme=dark] .colab-df-convert {\n",
              "      background-color: #3B4455;\n",
              "      fill: #D2E3FC;\n",
              "    }\n",
              "\n",
              "    [theme=dark] .colab-df-convert:hover {\n",
              "      background-color: #434B5C;\n",
              "      box-shadow: 0px 1px 3px 1px rgba(0, 0, 0, 0.15);\n",
              "      filter: drop-shadow(0px 1px 2px rgba(0, 0, 0, 0.3));\n",
              "      fill: #FFFFFF;\n",
              "    }\n",
              "  </style>\n",
              "\n",
              "      <script>\n",
              "        const buttonEl =\n",
              "          document.querySelector('#df-0062299d-f1ff-41d8-8c7f-8ff1807f568a button.colab-df-convert');\n",
              "        buttonEl.style.display =\n",
              "          google.colab.kernel.accessAllowed ? 'block' : 'none';\n",
              "\n",
              "        async function convertToInteractive(key) {\n",
              "          const element = document.querySelector('#df-0062299d-f1ff-41d8-8c7f-8ff1807f568a');\n",
              "          const dataTable =\n",
              "            await google.colab.kernel.invokeFunction('convertToInteractive',\n",
              "                                                     [key], {});\n",
              "          if (!dataTable) return;\n",
              "\n",
              "          const docLinkHtml = 'Like what you see? Visit the ' +\n",
              "            '<a target=\"_blank\" href=https://colab.research.google.com/notebooks/data_table.ipynb>data table notebook</a>'\n",
              "            + ' to learn more about interactive tables.';\n",
              "          element.innerHTML = '';\n",
              "          dataTable['output_type'] = 'display_data';\n",
              "          await google.colab.output.renderOutput(dataTable, element);\n",
              "          const docLink = document.createElement('div');\n",
              "          docLink.innerHTML = docLinkHtml;\n",
              "          element.appendChild(docLink);\n",
              "        }\n",
              "      </script>\n",
              "    </div>\n",
              "  </div>\n",
              "  "
            ]
          },
          "metadata": {},
          "execution_count": 7
        }
      ]
    },
    {
      "cell_type": "code",
      "source": [
        "X.info()"
      ],
      "metadata": {
        "colab": {
          "base_uri": "https://localhost:8080/"
        },
        "id": "BxpaoMwAVMKI",
        "outputId": "3ca9b6cb-8b49-45e0-8771-c25587c9839b"
      },
      "execution_count": null,
      "outputs": [
        {
          "output_type": "stream",
          "name": "stdout",
          "text": [
            "<class 'pandas.core.frame.DataFrame'>\n",
            "RangeIndex: 56935 entries, 0 to 56934\n",
            "Data columns (total 79 columns):\n",
            " #   Column                         Non-Null Count  Dtype  \n",
            "---  ------                         --------------  -----  \n",
            " 0   age                            56935 non-null  float64\n",
            " 1   bmi                            56935 non-null  float64\n",
            " 2   elective_surgery               56935 non-null  int64  \n",
            " 3   ethnicity                      56935 non-null  int64  \n",
            " 4   gender                         56935 non-null  int64  \n",
            " 5   height                         56935 non-null  float64\n",
            " 6   icu_admit_source               56935 non-null  int64  \n",
            " 7   icu_stay_type                  56935 non-null  int64  \n",
            " 8   icu_type                       56935 non-null  int64  \n",
            " 9   pre_icu_los_days               56935 non-null  float64\n",
            " 10  weight                         56935 non-null  float64\n",
            " 11  apache_2_diagnosis             56935 non-null  float64\n",
            " 12  apache_3j_diagnosis            56935 non-null  float64\n",
            " 13  apache_post_operative          56935 non-null  int64  \n",
            " 14  arf_apache                     56935 non-null  float64\n",
            " 15  gcs_eyes_apache                56935 non-null  float64\n",
            " 16  gcs_motor_apache               56935 non-null  float64\n",
            " 17  gcs_unable_apache              56935 non-null  float64\n",
            " 18  gcs_verbal_apache              56935 non-null  float64\n",
            " 19  heart_rate_apache              56935 non-null  float64\n",
            " 20  intubated_apache               56935 non-null  float64\n",
            " 21  map_apache                     56935 non-null  float64\n",
            " 22  resprate_apache                56935 non-null  float64\n",
            " 23  temp_apache                    56935 non-null  float64\n",
            " 24  ventilated_apache              56935 non-null  float64\n",
            " 25  d1_diasbp_max                  56935 non-null  float64\n",
            " 26  d1_diasbp_min                  56935 non-null  float64\n",
            " 27  d1_diasbp_noninvasive_max      56935 non-null  float64\n",
            " 28  d1_diasbp_noninvasive_min      56935 non-null  float64\n",
            " 29  d1_heartrate_max               56935 non-null  float64\n",
            " 30  d1_heartrate_min               56935 non-null  float64\n",
            " 31  d1_mbp_max                     56935 non-null  float64\n",
            " 32  d1_mbp_min                     56935 non-null  float64\n",
            " 33  d1_mbp_noninvasive_max         56935 non-null  float64\n",
            " 34  d1_mbp_noninvasive_min         56935 non-null  float64\n",
            " 35  d1_resprate_max                56935 non-null  float64\n",
            " 36  d1_resprate_min                56935 non-null  float64\n",
            " 37  d1_spo2_max                    56935 non-null  float64\n",
            " 38  d1_spo2_min                    56935 non-null  float64\n",
            " 39  d1_sysbp_max                   56935 non-null  float64\n",
            " 40  d1_sysbp_min                   56935 non-null  float64\n",
            " 41  d1_sysbp_noninvasive_max       56935 non-null  float64\n",
            " 42  d1_sysbp_noninvasive_min       56935 non-null  float64\n",
            " 43  d1_temp_max                    56935 non-null  float64\n",
            " 44  d1_temp_min                    56935 non-null  float64\n",
            " 45  h1_diasbp_max                  56935 non-null  float64\n",
            " 46  h1_diasbp_min                  56935 non-null  float64\n",
            " 47  h1_diasbp_noninvasive_max      56935 non-null  float64\n",
            " 48  h1_diasbp_noninvasive_min      56935 non-null  float64\n",
            " 49  h1_heartrate_max               56935 non-null  float64\n",
            " 50  h1_heartrate_min               56935 non-null  float64\n",
            " 51  h1_mbp_max                     56935 non-null  float64\n",
            " 52  h1_mbp_min                     56935 non-null  float64\n",
            " 53  h1_mbp_noninvasive_max         56935 non-null  float64\n",
            " 54  h1_mbp_noninvasive_min         56935 non-null  float64\n",
            " 55  h1_resprate_max                56935 non-null  float64\n",
            " 56  h1_resprate_min                56935 non-null  float64\n",
            " 57  h1_spo2_max                    56935 non-null  float64\n",
            " 58  h1_spo2_min                    56935 non-null  float64\n",
            " 59  h1_sysbp_max                   56935 non-null  float64\n",
            " 60  h1_sysbp_min                   56935 non-null  float64\n",
            " 61  h1_sysbp_noninvasive_max       56935 non-null  float64\n",
            " 62  h1_sysbp_noninvasive_min       56935 non-null  float64\n",
            " 63  d1_glucose_max                 56935 non-null  float64\n",
            " 64  d1_glucose_min                 56935 non-null  float64\n",
            " 65  d1_potassium_max               56935 non-null  float64\n",
            " 66  d1_potassium_min               56935 non-null  float64\n",
            " 67  apache_4a_hospital_death_prob  56935 non-null  float64\n",
            " 68  apache_4a_icu_death_prob       56935 non-null  float64\n",
            " 69  aids                           56935 non-null  float64\n",
            " 70  cirrhosis                      56935 non-null  float64\n",
            " 71  diabetes_mellitus              56935 non-null  float64\n",
            " 72  hepatic_failure                56935 non-null  float64\n",
            " 73  immunosuppression              56935 non-null  float64\n",
            " 74  leukemia                       56935 non-null  float64\n",
            " 75  lymphoma                       56935 non-null  float64\n",
            " 76  solid_tumor_with_metastasis    56935 non-null  float64\n",
            " 77  apache_3j_bodysystem           56935 non-null  int64  \n",
            " 78  apache_2_bodysystem            56935 non-null  int64  \n",
            "dtypes: float64(70), int64(9)\n",
            "memory usage: 34.3 MB\n"
          ]
        }
      ]
    },
    {
      "cell_type": "code",
      "source": [
        "print(imblearn.__version__)"
      ],
      "metadata": {
        "colab": {
          "base_uri": "https://localhost:8080/"
        },
        "id": "nfidcfbxnbvT",
        "outputId": "8170f37c-53bc-4106-ea97-8ad064282d48"
      },
      "execution_count": null,
      "outputs": [
        {
          "output_type": "stream",
          "name": "stdout",
          "text": [
            "0.10.1\n"
          ]
        }
      ]
    },
    {
      "cell_type": "code",
      "source": [
        "counter = Counter(y)\n",
        "print(counter)"
      ],
      "metadata": {
        "colab": {
          "base_uri": "https://localhost:8080/"
        },
        "id": "dndvYor3p7H0",
        "outputId": "9e2cfec1-852e-4ff2-a677-372e31e70778"
      },
      "execution_count": null,
      "outputs": [
        {
          "output_type": "stream",
          "name": "stdout",
          "text": [
            "Counter({0: 52044, 1: 4891})\n"
          ]
        }
      ]
    },
    {
      "cell_type": "code",
      "source": [
        "y.value_counts()"
      ],
      "metadata": {
        "colab": {
          "base_uri": "https://localhost:8080/"
        },
        "id": "dLfwh3q1nS_I",
        "outputId": "e4e75569-cb79-4c14-c052-920624e716cc"
      },
      "execution_count": null,
      "outputs": [
        {
          "output_type": "execute_result",
          "data": {
            "text/plain": [
              "0    52044\n",
              "1     4891\n",
              "Name: hospital_death, dtype: int64"
            ]
          },
          "metadata": {},
          "execution_count": 12
        }
      ]
    },
    {
      "cell_type": "code",
      "source": [
        "# upsample using SMOTE technique\n",
        "oversample = SMOTE()\n",
        "X, y = oversample.fit_resample(X, y)"
      ],
      "metadata": {
        "id": "ikJwWOk1qOXq"
      },
      "execution_count": null,
      "outputs": []
    },
    {
      "cell_type": "code",
      "source": [
        "counter = Counter(y)\n",
        "print(counter)"
      ],
      "metadata": {
        "colab": {
          "base_uri": "https://localhost:8080/"
        },
        "id": "UUB0R2BMqv9X",
        "outputId": "a047987d-685e-4eaf-9d63-2b334369acad"
      },
      "execution_count": null,
      "outputs": [
        {
          "output_type": "stream",
          "name": "stdout",
          "text": [
            "Counter({0: 52044, 1: 52044})\n"
          ]
        }
      ]
    },
    {
      "cell_type": "code",
      "source": [
        "X['hospital_death'] = y\n",
        "# sort the dataframe with respect to the class labels\n",
        "X = X.sort_values(by='hospital_death')\n",
        "X.reset_index(drop=True, inplace=True)\n",
        "X.head()"
      ],
      "metadata": {
        "colab": {
          "base_uri": "https://localhost:8080/",
          "height": 300
        },
        "id": "7bUtwBcjwOvr",
        "outputId": "2572dac8-db25-49b7-9f47-a589e7da7f14"
      },
      "execution_count": null,
      "outputs": [
        {
          "output_type": "execute_result",
          "data": {
            "text/plain": [
              "    age        bmi  elective_surgery  ethnicity  gender  height  \\\n",
              "0  68.0  22.730000                 0          1       1   180.3   \n",
              "1  26.0  23.149159                 0          1       2   165.1   \n",
              "2  59.0  21.748432                 0          1       1   180.3   \n",
              "3  75.0  23.916824                 0          1       2   162.3   \n",
              "4  26.0  16.435536                 0          1       2   165.1   \n",
              "\n",
              "   icu_admit_source  icu_stay_type  icu_type  pre_icu_los_days  ...  \\\n",
              "0                 1              0         0          0.541667  ...   \n",
              "1                 2              0         4          0.325694  ...   \n",
              "2                 2              0         1          0.012500  ...   \n",
              "3                 2              0         3          0.012500  ...   \n",
              "4                 4              0         4          0.000000  ...   \n",
              "\n",
              "   cirrhosis  diabetes_mellitus  hepatic_failure  immunosuppression  leukemia  \\\n",
              "0        0.0                1.0              0.0                0.0       0.0   \n",
              "1        0.0                0.0              0.0                0.0       0.0   \n",
              "2        0.0                0.0              0.0                0.0       0.0   \n",
              "3        0.0                0.0              0.0                0.0       0.0   \n",
              "4        0.0                0.0              0.0                0.0       0.0   \n",
              "\n",
              "   lymphoma  solid_tumor_with_metastasis  apache_3j_bodysystem  \\\n",
              "0       0.0                          0.0                     1   \n",
              "1       0.0                          0.0                     1   \n",
              "2       0.0                          0.0                     3   \n",
              "3       0.0                          0.0                     6   \n",
              "4       0.0                          0.0                     8   \n",
              "\n",
              "   apache_2_bodysystem  hospital_death  \n",
              "0                    0               0  \n",
              "1                    0               0  \n",
              "2                    2               0  \n",
              "3                    4               0  \n",
              "4                    6               0  \n",
              "\n",
              "[5 rows x 80 columns]"
            ],
            "text/html": [
              "\n",
              "  <div id=\"df-bcc47431-c8ee-452b-9c34-8b080e5582df\">\n",
              "    <div class=\"colab-df-container\">\n",
              "      <div>\n",
              "<style scoped>\n",
              "    .dataframe tbody tr th:only-of-type {\n",
              "        vertical-align: middle;\n",
              "    }\n",
              "\n",
              "    .dataframe tbody tr th {\n",
              "        vertical-align: top;\n",
              "    }\n",
              "\n",
              "    .dataframe thead th {\n",
              "        text-align: right;\n",
              "    }\n",
              "</style>\n",
              "<table border=\"1\" class=\"dataframe\">\n",
              "  <thead>\n",
              "    <tr style=\"text-align: right;\">\n",
              "      <th></th>\n",
              "      <th>age</th>\n",
              "      <th>bmi</th>\n",
              "      <th>elective_surgery</th>\n",
              "      <th>ethnicity</th>\n",
              "      <th>gender</th>\n",
              "      <th>height</th>\n",
              "      <th>icu_admit_source</th>\n",
              "      <th>icu_stay_type</th>\n",
              "      <th>icu_type</th>\n",
              "      <th>pre_icu_los_days</th>\n",
              "      <th>...</th>\n",
              "      <th>cirrhosis</th>\n",
              "      <th>diabetes_mellitus</th>\n",
              "      <th>hepatic_failure</th>\n",
              "      <th>immunosuppression</th>\n",
              "      <th>leukemia</th>\n",
              "      <th>lymphoma</th>\n",
              "      <th>solid_tumor_with_metastasis</th>\n",
              "      <th>apache_3j_bodysystem</th>\n",
              "      <th>apache_2_bodysystem</th>\n",
              "      <th>hospital_death</th>\n",
              "    </tr>\n",
              "  </thead>\n",
              "  <tbody>\n",
              "    <tr>\n",
              "      <th>0</th>\n",
              "      <td>68.0</td>\n",
              "      <td>22.730000</td>\n",
              "      <td>0</td>\n",
              "      <td>1</td>\n",
              "      <td>1</td>\n",
              "      <td>180.3</td>\n",
              "      <td>1</td>\n",
              "      <td>0</td>\n",
              "      <td>0</td>\n",
              "      <td>0.541667</td>\n",
              "      <td>...</td>\n",
              "      <td>0.0</td>\n",
              "      <td>1.0</td>\n",
              "      <td>0.0</td>\n",
              "      <td>0.0</td>\n",
              "      <td>0.0</td>\n",
              "      <td>0.0</td>\n",
              "      <td>0.0</td>\n",
              "      <td>1</td>\n",
              "      <td>0</td>\n",
              "      <td>0</td>\n",
              "    </tr>\n",
              "    <tr>\n",
              "      <th>1</th>\n",
              "      <td>26.0</td>\n",
              "      <td>23.149159</td>\n",
              "      <td>0</td>\n",
              "      <td>1</td>\n",
              "      <td>2</td>\n",
              "      <td>165.1</td>\n",
              "      <td>2</td>\n",
              "      <td>0</td>\n",
              "      <td>4</td>\n",
              "      <td>0.325694</td>\n",
              "      <td>...</td>\n",
              "      <td>0.0</td>\n",
              "      <td>0.0</td>\n",
              "      <td>0.0</td>\n",
              "      <td>0.0</td>\n",
              "      <td>0.0</td>\n",
              "      <td>0.0</td>\n",
              "      <td>0.0</td>\n",
              "      <td>1</td>\n",
              "      <td>0</td>\n",
              "      <td>0</td>\n",
              "    </tr>\n",
              "    <tr>\n",
              "      <th>2</th>\n",
              "      <td>59.0</td>\n",
              "      <td>21.748432</td>\n",
              "      <td>0</td>\n",
              "      <td>1</td>\n",
              "      <td>1</td>\n",
              "      <td>180.3</td>\n",
              "      <td>2</td>\n",
              "      <td>0</td>\n",
              "      <td>1</td>\n",
              "      <td>0.012500</td>\n",
              "      <td>...</td>\n",
              "      <td>0.0</td>\n",
              "      <td>0.0</td>\n",
              "      <td>0.0</td>\n",
              "      <td>0.0</td>\n",
              "      <td>0.0</td>\n",
              "      <td>0.0</td>\n",
              "      <td>0.0</td>\n",
              "      <td>3</td>\n",
              "      <td>2</td>\n",
              "      <td>0</td>\n",
              "    </tr>\n",
              "    <tr>\n",
              "      <th>3</th>\n",
              "      <td>75.0</td>\n",
              "      <td>23.916824</td>\n",
              "      <td>0</td>\n",
              "      <td>1</td>\n",
              "      <td>2</td>\n",
              "      <td>162.3</td>\n",
              "      <td>2</td>\n",
              "      <td>0</td>\n",
              "      <td>3</td>\n",
              "      <td>0.012500</td>\n",
              "      <td>...</td>\n",
              "      <td>0.0</td>\n",
              "      <td>0.0</td>\n",
              "      <td>0.0</td>\n",
              "      <td>0.0</td>\n",
              "      <td>0.0</td>\n",
              "      <td>0.0</td>\n",
              "      <td>0.0</td>\n",
              "      <td>6</td>\n",
              "      <td>4</td>\n",
              "      <td>0</td>\n",
              "    </tr>\n",
              "    <tr>\n",
              "      <th>4</th>\n",
              "      <td>26.0</td>\n",
              "      <td>16.435536</td>\n",
              "      <td>0</td>\n",
              "      <td>1</td>\n",
              "      <td>2</td>\n",
              "      <td>165.1</td>\n",
              "      <td>4</td>\n",
              "      <td>0</td>\n",
              "      <td>4</td>\n",
              "      <td>0.000000</td>\n",
              "      <td>...</td>\n",
              "      <td>0.0</td>\n",
              "      <td>0.0</td>\n",
              "      <td>0.0</td>\n",
              "      <td>0.0</td>\n",
              "      <td>0.0</td>\n",
              "      <td>0.0</td>\n",
              "      <td>0.0</td>\n",
              "      <td>8</td>\n",
              "      <td>6</td>\n",
              "      <td>0</td>\n",
              "    </tr>\n",
              "  </tbody>\n",
              "</table>\n",
              "<p>5 rows × 80 columns</p>\n",
              "</div>\n",
              "      <button class=\"colab-df-convert\" onclick=\"convertToInteractive('df-bcc47431-c8ee-452b-9c34-8b080e5582df')\"\n",
              "              title=\"Convert this dataframe to an interactive table.\"\n",
              "              style=\"display:none;\">\n",
              "        \n",
              "  <svg xmlns=\"http://www.w3.org/2000/svg\" height=\"24px\"viewBox=\"0 0 24 24\"\n",
              "       width=\"24px\">\n",
              "    <path d=\"M0 0h24v24H0V0z\" fill=\"none\"/>\n",
              "    <path d=\"M18.56 5.44l.94 2.06.94-2.06 2.06-.94-2.06-.94-.94-2.06-.94 2.06-2.06.94zm-11 1L8.5 8.5l.94-2.06 2.06-.94-2.06-.94L8.5 2.5l-.94 2.06-2.06.94zm10 10l.94 2.06.94-2.06 2.06-.94-2.06-.94-.94-2.06-.94 2.06-2.06.94z\"/><path d=\"M17.41 7.96l-1.37-1.37c-.4-.4-.92-.59-1.43-.59-.52 0-1.04.2-1.43.59L10.3 9.45l-7.72 7.72c-.78.78-.78 2.05 0 2.83L4 21.41c.39.39.9.59 1.41.59.51 0 1.02-.2 1.41-.59l7.78-7.78 2.81-2.81c.8-.78.8-2.07 0-2.86zM5.41 20L4 18.59l7.72-7.72 1.47 1.35L5.41 20z\"/>\n",
              "  </svg>\n",
              "      </button>\n",
              "      \n",
              "  <style>\n",
              "    .colab-df-container {\n",
              "      display:flex;\n",
              "      flex-wrap:wrap;\n",
              "      gap: 12px;\n",
              "    }\n",
              "\n",
              "    .colab-df-convert {\n",
              "      background-color: #E8F0FE;\n",
              "      border: none;\n",
              "      border-radius: 50%;\n",
              "      cursor: pointer;\n",
              "      display: none;\n",
              "      fill: #1967D2;\n",
              "      height: 32px;\n",
              "      padding: 0 0 0 0;\n",
              "      width: 32px;\n",
              "    }\n",
              "\n",
              "    .colab-df-convert:hover {\n",
              "      background-color: #E2EBFA;\n",
              "      box-shadow: 0px 1px 2px rgba(60, 64, 67, 0.3), 0px 1px 3px 1px rgba(60, 64, 67, 0.15);\n",
              "      fill: #174EA6;\n",
              "    }\n",
              "\n",
              "    [theme=dark] .colab-df-convert {\n",
              "      background-color: #3B4455;\n",
              "      fill: #D2E3FC;\n",
              "    }\n",
              "\n",
              "    [theme=dark] .colab-df-convert:hover {\n",
              "      background-color: #434B5C;\n",
              "      box-shadow: 0px 1px 3px 1px rgba(0, 0, 0, 0.15);\n",
              "      filter: drop-shadow(0px 1px 2px rgba(0, 0, 0, 0.3));\n",
              "      fill: #FFFFFF;\n",
              "    }\n",
              "  </style>\n",
              "\n",
              "      <script>\n",
              "        const buttonEl =\n",
              "          document.querySelector('#df-bcc47431-c8ee-452b-9c34-8b080e5582df button.colab-df-convert');\n",
              "        buttonEl.style.display =\n",
              "          google.colab.kernel.accessAllowed ? 'block' : 'none';\n",
              "\n",
              "        async function convertToInteractive(key) {\n",
              "          const element = document.querySelector('#df-bcc47431-c8ee-452b-9c34-8b080e5582df');\n",
              "          const dataTable =\n",
              "            await google.colab.kernel.invokeFunction('convertToInteractive',\n",
              "                                                     [key], {});\n",
              "          if (!dataTable) return;\n",
              "\n",
              "          const docLinkHtml = 'Like what you see? Visit the ' +\n",
              "            '<a target=\"_blank\" href=https://colab.research.google.com/notebooks/data_table.ipynb>data table notebook</a>'\n",
              "            + ' to learn more about interactive tables.';\n",
              "          element.innerHTML = '';\n",
              "          dataTable['output_type'] = 'display_data';\n",
              "          await google.colab.output.renderOutput(dataTable, element);\n",
              "          const docLink = document.createElement('div');\n",
              "          docLink.innerHTML = docLinkHtml;\n",
              "          element.appendChild(docLink);\n",
              "        }\n",
              "      </script>\n",
              "    </div>\n",
              "  </div>\n",
              "  "
            ]
          },
          "metadata": {},
          "execution_count": 15
        }
      ]
    },
    {
      "cell_type": "code",
      "source": [
        "y = X['hospital_death']\n",
        "X = X.drop(['hospital_death'],axis=1)\n",
        "X.head()"
      ],
      "metadata": {
        "colab": {
          "base_uri": "https://localhost:8080/",
          "height": 300
        },
        "id": "7OWjA0pawm2S",
        "outputId": "5781134c-15b1-4e15-8918-5bb5d14d9940"
      },
      "execution_count": null,
      "outputs": [
        {
          "output_type": "execute_result",
          "data": {
            "text/plain": [
              "    age        bmi  elective_surgery  ethnicity  gender  height  \\\n",
              "0  68.0  22.730000                 0          1       1   180.3   \n",
              "1  26.0  23.149159                 0          1       2   165.1   \n",
              "2  59.0  21.748432                 0          1       1   180.3   \n",
              "3  75.0  23.916824                 0          1       2   162.3   \n",
              "4  26.0  16.435536                 0          1       2   165.1   \n",
              "\n",
              "   icu_admit_source  icu_stay_type  icu_type  pre_icu_los_days  ...  aids  \\\n",
              "0                 1              0         0          0.541667  ...   0.0   \n",
              "1                 2              0         4          0.325694  ...   0.0   \n",
              "2                 2              0         1          0.012500  ...   0.0   \n",
              "3                 2              0         3          0.012500  ...   0.0   \n",
              "4                 4              0         4          0.000000  ...   0.0   \n",
              "\n",
              "   cirrhosis  diabetes_mellitus  hepatic_failure  immunosuppression  leukemia  \\\n",
              "0        0.0                1.0              0.0                0.0       0.0   \n",
              "1        0.0                0.0              0.0                0.0       0.0   \n",
              "2        0.0                0.0              0.0                0.0       0.0   \n",
              "3        0.0                0.0              0.0                0.0       0.0   \n",
              "4        0.0                0.0              0.0                0.0       0.0   \n",
              "\n",
              "   lymphoma  solid_tumor_with_metastasis  apache_3j_bodysystem  \\\n",
              "0       0.0                          0.0                     1   \n",
              "1       0.0                          0.0                     1   \n",
              "2       0.0                          0.0                     3   \n",
              "3       0.0                          0.0                     6   \n",
              "4       0.0                          0.0                     8   \n",
              "\n",
              "   apache_2_bodysystem  \n",
              "0                    0  \n",
              "1                    0  \n",
              "2                    2  \n",
              "3                    4  \n",
              "4                    6  \n",
              "\n",
              "[5 rows x 79 columns]"
            ],
            "text/html": [
              "\n",
              "  <div id=\"df-f26e7f3d-b201-4d45-ae28-c264669c9de1\">\n",
              "    <div class=\"colab-df-container\">\n",
              "      <div>\n",
              "<style scoped>\n",
              "    .dataframe tbody tr th:only-of-type {\n",
              "        vertical-align: middle;\n",
              "    }\n",
              "\n",
              "    .dataframe tbody tr th {\n",
              "        vertical-align: top;\n",
              "    }\n",
              "\n",
              "    .dataframe thead th {\n",
              "        text-align: right;\n",
              "    }\n",
              "</style>\n",
              "<table border=\"1\" class=\"dataframe\">\n",
              "  <thead>\n",
              "    <tr style=\"text-align: right;\">\n",
              "      <th></th>\n",
              "      <th>age</th>\n",
              "      <th>bmi</th>\n",
              "      <th>elective_surgery</th>\n",
              "      <th>ethnicity</th>\n",
              "      <th>gender</th>\n",
              "      <th>height</th>\n",
              "      <th>icu_admit_source</th>\n",
              "      <th>icu_stay_type</th>\n",
              "      <th>icu_type</th>\n",
              "      <th>pre_icu_los_days</th>\n",
              "      <th>...</th>\n",
              "      <th>aids</th>\n",
              "      <th>cirrhosis</th>\n",
              "      <th>diabetes_mellitus</th>\n",
              "      <th>hepatic_failure</th>\n",
              "      <th>immunosuppression</th>\n",
              "      <th>leukemia</th>\n",
              "      <th>lymphoma</th>\n",
              "      <th>solid_tumor_with_metastasis</th>\n",
              "      <th>apache_3j_bodysystem</th>\n",
              "      <th>apache_2_bodysystem</th>\n",
              "    </tr>\n",
              "  </thead>\n",
              "  <tbody>\n",
              "    <tr>\n",
              "      <th>0</th>\n",
              "      <td>68.0</td>\n",
              "      <td>22.730000</td>\n",
              "      <td>0</td>\n",
              "      <td>1</td>\n",
              "      <td>1</td>\n",
              "      <td>180.3</td>\n",
              "      <td>1</td>\n",
              "      <td>0</td>\n",
              "      <td>0</td>\n",
              "      <td>0.541667</td>\n",
              "      <td>...</td>\n",
              "      <td>0.0</td>\n",
              "      <td>0.0</td>\n",
              "      <td>1.0</td>\n",
              "      <td>0.0</td>\n",
              "      <td>0.0</td>\n",
              "      <td>0.0</td>\n",
              "      <td>0.0</td>\n",
              "      <td>0.0</td>\n",
              "      <td>1</td>\n",
              "      <td>0</td>\n",
              "    </tr>\n",
              "    <tr>\n",
              "      <th>1</th>\n",
              "      <td>26.0</td>\n",
              "      <td>23.149159</td>\n",
              "      <td>0</td>\n",
              "      <td>1</td>\n",
              "      <td>2</td>\n",
              "      <td>165.1</td>\n",
              "      <td>2</td>\n",
              "      <td>0</td>\n",
              "      <td>4</td>\n",
              "      <td>0.325694</td>\n",
              "      <td>...</td>\n",
              "      <td>0.0</td>\n",
              "      <td>0.0</td>\n",
              "      <td>0.0</td>\n",
              "      <td>0.0</td>\n",
              "      <td>0.0</td>\n",
              "      <td>0.0</td>\n",
              "      <td>0.0</td>\n",
              "      <td>0.0</td>\n",
              "      <td>1</td>\n",
              "      <td>0</td>\n",
              "    </tr>\n",
              "    <tr>\n",
              "      <th>2</th>\n",
              "      <td>59.0</td>\n",
              "      <td>21.748432</td>\n",
              "      <td>0</td>\n",
              "      <td>1</td>\n",
              "      <td>1</td>\n",
              "      <td>180.3</td>\n",
              "      <td>2</td>\n",
              "      <td>0</td>\n",
              "      <td>1</td>\n",
              "      <td>0.012500</td>\n",
              "      <td>...</td>\n",
              "      <td>0.0</td>\n",
              "      <td>0.0</td>\n",
              "      <td>0.0</td>\n",
              "      <td>0.0</td>\n",
              "      <td>0.0</td>\n",
              "      <td>0.0</td>\n",
              "      <td>0.0</td>\n",
              "      <td>0.0</td>\n",
              "      <td>3</td>\n",
              "      <td>2</td>\n",
              "    </tr>\n",
              "    <tr>\n",
              "      <th>3</th>\n",
              "      <td>75.0</td>\n",
              "      <td>23.916824</td>\n",
              "      <td>0</td>\n",
              "      <td>1</td>\n",
              "      <td>2</td>\n",
              "      <td>162.3</td>\n",
              "      <td>2</td>\n",
              "      <td>0</td>\n",
              "      <td>3</td>\n",
              "      <td>0.012500</td>\n",
              "      <td>...</td>\n",
              "      <td>0.0</td>\n",
              "      <td>0.0</td>\n",
              "      <td>0.0</td>\n",
              "      <td>0.0</td>\n",
              "      <td>0.0</td>\n",
              "      <td>0.0</td>\n",
              "      <td>0.0</td>\n",
              "      <td>0.0</td>\n",
              "      <td>6</td>\n",
              "      <td>4</td>\n",
              "    </tr>\n",
              "    <tr>\n",
              "      <th>4</th>\n",
              "      <td>26.0</td>\n",
              "      <td>16.435536</td>\n",
              "      <td>0</td>\n",
              "      <td>1</td>\n",
              "      <td>2</td>\n",
              "      <td>165.1</td>\n",
              "      <td>4</td>\n",
              "      <td>0</td>\n",
              "      <td>4</td>\n",
              "      <td>0.000000</td>\n",
              "      <td>...</td>\n",
              "      <td>0.0</td>\n",
              "      <td>0.0</td>\n",
              "      <td>0.0</td>\n",
              "      <td>0.0</td>\n",
              "      <td>0.0</td>\n",
              "      <td>0.0</td>\n",
              "      <td>0.0</td>\n",
              "      <td>0.0</td>\n",
              "      <td>8</td>\n",
              "      <td>6</td>\n",
              "    </tr>\n",
              "  </tbody>\n",
              "</table>\n",
              "<p>5 rows × 79 columns</p>\n",
              "</div>\n",
              "      <button class=\"colab-df-convert\" onclick=\"convertToInteractive('df-f26e7f3d-b201-4d45-ae28-c264669c9de1')\"\n",
              "              title=\"Convert this dataframe to an interactive table.\"\n",
              "              style=\"display:none;\">\n",
              "        \n",
              "  <svg xmlns=\"http://www.w3.org/2000/svg\" height=\"24px\"viewBox=\"0 0 24 24\"\n",
              "       width=\"24px\">\n",
              "    <path d=\"M0 0h24v24H0V0z\" fill=\"none\"/>\n",
              "    <path d=\"M18.56 5.44l.94 2.06.94-2.06 2.06-.94-2.06-.94-.94-2.06-.94 2.06-2.06.94zm-11 1L8.5 8.5l.94-2.06 2.06-.94-2.06-.94L8.5 2.5l-.94 2.06-2.06.94zm10 10l.94 2.06.94-2.06 2.06-.94-2.06-.94-.94-2.06-.94 2.06-2.06.94z\"/><path d=\"M17.41 7.96l-1.37-1.37c-.4-.4-.92-.59-1.43-.59-.52 0-1.04.2-1.43.59L10.3 9.45l-7.72 7.72c-.78.78-.78 2.05 0 2.83L4 21.41c.39.39.9.59 1.41.59.51 0 1.02-.2 1.41-.59l7.78-7.78 2.81-2.81c.8-.78.8-2.07 0-2.86zM5.41 20L4 18.59l7.72-7.72 1.47 1.35L5.41 20z\"/>\n",
              "  </svg>\n",
              "      </button>\n",
              "      \n",
              "  <style>\n",
              "    .colab-df-container {\n",
              "      display:flex;\n",
              "      flex-wrap:wrap;\n",
              "      gap: 12px;\n",
              "    }\n",
              "\n",
              "    .colab-df-convert {\n",
              "      background-color: #E8F0FE;\n",
              "      border: none;\n",
              "      border-radius: 50%;\n",
              "      cursor: pointer;\n",
              "      display: none;\n",
              "      fill: #1967D2;\n",
              "      height: 32px;\n",
              "      padding: 0 0 0 0;\n",
              "      width: 32px;\n",
              "    }\n",
              "\n",
              "    .colab-df-convert:hover {\n",
              "      background-color: #E2EBFA;\n",
              "      box-shadow: 0px 1px 2px rgba(60, 64, 67, 0.3), 0px 1px 3px 1px rgba(60, 64, 67, 0.15);\n",
              "      fill: #174EA6;\n",
              "    }\n",
              "\n",
              "    [theme=dark] .colab-df-convert {\n",
              "      background-color: #3B4455;\n",
              "      fill: #D2E3FC;\n",
              "    }\n",
              "\n",
              "    [theme=dark] .colab-df-convert:hover {\n",
              "      background-color: #434B5C;\n",
              "      box-shadow: 0px 1px 3px 1px rgba(0, 0, 0, 0.15);\n",
              "      filter: drop-shadow(0px 1px 2px rgba(0, 0, 0, 0.3));\n",
              "      fill: #FFFFFF;\n",
              "    }\n",
              "  </style>\n",
              "\n",
              "      <script>\n",
              "        const buttonEl =\n",
              "          document.querySelector('#df-f26e7f3d-b201-4d45-ae28-c264669c9de1 button.colab-df-convert');\n",
              "        buttonEl.style.display =\n",
              "          google.colab.kernel.accessAllowed ? 'block' : 'none';\n",
              "\n",
              "        async function convertToInteractive(key) {\n",
              "          const element = document.querySelector('#df-f26e7f3d-b201-4d45-ae28-c264669c9de1');\n",
              "          const dataTable =\n",
              "            await google.colab.kernel.invokeFunction('convertToInteractive',\n",
              "                                                     [key], {});\n",
              "          if (!dataTable) return;\n",
              "\n",
              "          const docLinkHtml = 'Like what you see? Visit the ' +\n",
              "            '<a target=\"_blank\" href=https://colab.research.google.com/notebooks/data_table.ipynb>data table notebook</a>'\n",
              "            + ' to learn more about interactive tables.';\n",
              "          element.innerHTML = '';\n",
              "          dataTable['output_type'] = 'display_data';\n",
              "          await google.colab.output.renderOutput(dataTable, element);\n",
              "          const docLink = document.createElement('div');\n",
              "          docLink.innerHTML = docLinkHtml;\n",
              "          element.appendChild(docLink);\n",
              "        }\n",
              "      </script>\n",
              "    </div>\n",
              "  </div>\n",
              "  "
            ]
          },
          "metadata": {},
          "execution_count": 16
        }
      ]
    },
    {
      "cell_type": "code",
      "source": [
        "X.shape"
      ],
      "metadata": {
        "colab": {
          "base_uri": "https://localhost:8080/"
        },
        "id": "5x6S48Ykw1pR",
        "outputId": "450d68be-1f09-46ae-803f-eddd68295c00"
      },
      "execution_count": null,
      "outputs": [
        {
          "output_type": "execute_result",
          "data": {
            "text/plain": [
              "(104088, 79)"
            ]
          },
          "metadata": {},
          "execution_count": 17
        }
      ]
    },
    {
      "cell_type": "code",
      "source": [
        "y.shape"
      ],
      "metadata": {
        "colab": {
          "base_uri": "https://localhost:8080/"
        },
        "id": "26gFCr5J1U0V",
        "outputId": "b21205df-d8fe-40e5-a30f-6fe599becfcb"
      },
      "execution_count": null,
      "outputs": [
        {
          "output_type": "execute_result",
          "data": {
            "text/plain": [
              "(104088,)"
            ]
          },
          "metadata": {},
          "execution_count": 18
        }
      ]
    },
    {
      "cell_type": "code",
      "source": [
        "# Normalize the data since KNN and SVM are distance based algorithms\n",
        "scaler = preprocessing.StandardScaler().fit(X)\n",
        "X = scaler.transform(X)"
      ],
      "metadata": {
        "id": "mFqrlHz8xFsK"
      },
      "execution_count": null,
      "outputs": []
    },
    {
      "cell_type": "code",
      "source": [
        "# Train a KNN model\n",
        "def train_knn(X_train, y_train, n_neighbors):\n",
        "  start_train = time.time()\n",
        "  knn_model = KNeighborsClassifier(n_neighbors= n_neighbors,algorithm='brute', metric='euclidean')\n",
        "  knn_model.fit(X_train, y_train)\n",
        "  end_train = time.time()\n",
        "  train_time = end_train - start_train\n",
        "  print(\"Training time is %s seconds\" % train_time)\n",
        "  return knn_model\n",
        "# Test a KNN model\n",
        "def test_knn(knn_model,X_test, y_test):\n",
        "  start_test = time.time()\n",
        "  y_hat = knn_model.predict(X_test)\n",
        "  end_test = time.time()\n",
        "  test_time = end_test - start_test\n",
        "  print(\"Testing time is %s seconds\" % test_time)\n",
        "  return y_hat"
      ],
      "metadata": {
        "id": "2rBE1yMneyGw"
      },
      "execution_count": null,
      "outputs": []
    },
    {
      "cell_type": "code",
      "source": [
        "X_train, X_test, y_train, y_test  = train_test_split(X, y, test_size=0.20, random_state=1, stratify=y)"
      ],
      "metadata": {
        "id": "4aBUiMkKbgk-"
      },
      "execution_count": null,
      "outputs": []
    },
    {
      "cell_type": "code",
      "source": [
        "start_knn = time.time()\n",
        "k = range(3,25,2)\n",
        "# metric = ['euclidean', 'manhattan']\n",
        "grid = dict(n_neighbors=k) #,metric=metric\n",
        "# scoring = {'accuracy': make_scorer(accuracy_score), 'f1_score': make_scorer(f1_score)}\n",
        "skf = StratifiedKFold(n_splits=5,random_state=1, shuffle=True)\n",
        "grid_search = GridSearchCV(estimator=KNeighborsClassifier(), param_grid=grid, n_jobs=-1, cv=skf, scoring='f1_micro',error_score=0)\n",
        "grid_result = grid_search.fit(X_train, y_train.values.ravel())\n",
        "print(\"Best f1-score: %f using %s\" % (grid_result.best_score_, grid_result.best_params_))\n",
        "end_knn = time.time()\n",
        "knn_time = end_knn - start_knn\n",
        "print('Time required for knn kfold cross validation is ',knn_time)"
      ],
      "metadata": {
        "colab": {
          "base_uri": "https://localhost:8080/"
        },
        "id": "WtmVRUM9XBNv",
        "outputId": "a410a80f-231f-4d2b-d34a-16528d329207"
      },
      "execution_count": null,
      "outputs": [
        {
          "output_type": "stream",
          "name": "stdout",
          "text": [
            "Best f1-score: 0.899339 using {'n_neighbors': 3}\n",
            "Time required for knn kfold cross validation is  601.980153799057\n"
          ]
        }
      ]
    },
    {
      "cell_type": "code",
      "source": [
        "grid_result.cv_results_"
      ],
      "metadata": {
        "colab": {
          "base_uri": "https://localhost:8080/"
        },
        "id": "EJZhMjyMcGnI",
        "outputId": "09b21373-70f5-4da8-d16c-3a65b868b42d"
      },
      "execution_count": null,
      "outputs": [
        {
          "output_type": "execute_result",
          "data": {
            "text/plain": [
              "{'mean_fit_time': array([0.05184054, 0.03689151, 0.04197001, 0.0433342 , 0.04490185,\n",
              "        0.04780536, 0.03663788, 0.07295375, 0.05563731, 0.03685308,\n",
              "        0.04486947]),\n",
              " 'std_fit_time': array([0.02316555, 0.00081364, 0.01039157, 0.01267578, 0.01770483,\n",
              "        0.01176223, 0.00083352, 0.02040258, 0.01663332, 0.00091138,\n",
              "        0.01520911]),\n",
              " 'mean_score_time': array([22.05966463, 20.33230085, 20.69901557, 19.76719122, 19.95941339,\n",
              "        20.12256327, 23.34258928, 33.01113639, 20.31995525, 19.71084328,\n",
              "        18.33922811]),\n",
              " 'std_score_time': array([2.28513394, 1.19023379, 0.57592043, 1.02331692, 1.02203725,\n",
              "        0.95519227, 5.76229788, 1.43611515, 0.82991098, 0.90498797,\n",
              "        2.54562025]),\n",
              " 'param_n_neighbors': masked_array(data=[3, 5, 7, 9, 11, 13, 15, 17, 19, 21, 23],\n",
              "              mask=[False, False, False, False, False, False, False, False,\n",
              "                    False, False, False],\n",
              "        fill_value='?',\n",
              "             dtype=object),\n",
              " 'params': [{'n_neighbors': 3},\n",
              "  {'n_neighbors': 5},\n",
              "  {'n_neighbors': 7},\n",
              "  {'n_neighbors': 9},\n",
              "  {'n_neighbors': 11},\n",
              "  {'n_neighbors': 13},\n",
              "  {'n_neighbors': 15},\n",
              "  {'n_neighbors': 17},\n",
              "  {'n_neighbors': 19},\n",
              "  {'n_neighbors': 21},\n",
              "  {'n_neighbors': 23}],\n",
              " 'split0_test_score': array([0.90014411, 0.89287859, 0.88609343, 0.88092951, 0.87666627,\n",
              "        0.87462471, 0.87180257, 0.86813979, 0.8652576 , 0.86363636,\n",
              "        0.86081422]),\n",
              " 'split1_test_score': array([0.90014411, 0.89101717, 0.8851327 , 0.87936832, 0.87558544,\n",
              "        0.87270325, 0.87054161, 0.86795965, 0.86429687, 0.86309595,\n",
              "        0.86213522]),\n",
              " 'split2_test_score': array([0.90098475, 0.88939594, 0.88309115, 0.87648613, 0.87516513,\n",
              "        0.87138225, 0.86910052, 0.86735919, 0.86501741, 0.86081422,\n",
              "        0.85925303]),\n",
              " 'split3_test_score': array([0.89636123, 0.88837517, 0.88333133, 0.87750691, 0.87270325,\n",
              "        0.86910052, 0.86705896, 0.86465714, 0.86321604, 0.85979344,\n",
              "        0.85949321]),\n",
              " 'split4_test_score': array([0.89906329, 0.88975621, 0.88429206, 0.88116969, 0.87492494,\n",
              "        0.87240303, 0.86970097, 0.86753933, 0.86399664, 0.86267563,\n",
              "        0.86081422]),\n",
              " 'mean_test_score': array([0.8993395 , 0.89028462, 0.88438813, 0.87909211, 0.87500901,\n",
              "        0.87204275, 0.86964093, 0.86713102, 0.86435691, 0.86200312,\n",
              "        0.86050198]),\n",
              " 'std_test_score': array([0.00160922, 0.00154792, 0.00111988, 0.00184785, 0.00129821,\n",
              "        0.00180696, 0.00157773, 0.00126831, 0.00073246, 0.00145672,\n",
              "        0.00104307]),\n",
              " 'rank_test_score': array([ 1,  2,  3,  4,  5,  6,  7,  8,  9, 10, 11], dtype=int32)}"
            ]
          },
          "metadata": {},
          "execution_count": 80
        }
      ]
    },
    {
      "cell_type": "code",
      "source": [
        "# re-iterates on the fact that sqrt(n), n is number of features is an optimal values for k"
      ],
      "metadata": {
        "id": "J0dTo5GxI7Re"
      },
      "execution_count": null,
      "outputs": []
    },
    {
      "cell_type": "code",
      "source": [
        "X.shape"
      ],
      "metadata": {
        "colab": {
          "base_uri": "https://localhost:8080/"
        },
        "id": "VbgSyKWo3RiZ",
        "outputId": "3bed1707-1310-444c-9a79-50e7c18d0b3a"
      },
      "execution_count": null,
      "outputs": [
        {
          "output_type": "execute_result",
          "data": {
            "text/plain": [
              "(104088, 79)"
            ]
          },
          "metadata": {},
          "execution_count": 24
        }
      ]
    },
    {
      "cell_type": "code",
      "source": [
        "0.006*104088"
      ],
      "metadata": {
        "colab": {
          "base_uri": "https://localhost:8080/"
        },
        "id": "H8yNGR2Q3TNq",
        "outputId": "78c7233a-2734-494f-eac3-e41188899d8f"
      },
      "execution_count": null,
      "outputs": [
        {
          "output_type": "execute_result",
          "data": {
            "text/plain": [
              "624.528"
            ]
          },
          "metadata": {},
          "execution_count": 34
        }
      ]
    },
    {
      "cell_type": "code",
      "source": [
        "104088-624.528"
      ],
      "metadata": {
        "colab": {
          "base_uri": "https://localhost:8080/"
        },
        "id": "c3_OMqj7GVL9",
        "outputId": "bb744f0f-2699-4562-fe81-3aef6650ff1e"
      },
      "execution_count": null,
      "outputs": [
        {
          "output_type": "execute_result",
          "data": {
            "text/plain": [
              "103463.472"
            ]
          },
          "metadata": {},
          "execution_count": 35
        }
      ]
    },
    {
      "cell_type": "code",
      "source": [
        "# fix k and iterate over possible test sizes\n",
        "# Experiment to determine optimal N\n",
        "start_knn = time.time()\n",
        "test_sizes = np.arange(0.1,0.45,0.002)\n",
        "f1score_test = []\n",
        "accuracy_test = []\n",
        "for i in test_sizes:\n",
        "  X_train, X_test, y_train, y_test  = train_test_split(X, y, test_size=i, random_state=1, stratify=y)\n",
        "  knn_model = train_knn(X_train, y_train,n_neighbors=3)\n",
        "  y_hat = test_knn(knn_model,X_test, y_test)\n",
        "  f1score_test.append(f1_score(y_test,y_hat, average='micro'))\n",
        "  accuracy_test.append(accuracy_score(y_test,y_hat))\n",
        "  # micro- Calculate metrics globally by counting the total true positives, false negatives and false positives.\n",
        "end_knn = time.time()\n",
        "knn_time = end_knn - start_knn\n",
        "print('Time required for the experiment is ', knn_time)"
      ],
      "metadata": {
        "id": "L3H5ScCK0dmH"
      },
      "execution_count": null,
      "outputs": []
    },
    {
      "cell_type": "code",
      "source": [
        "# plot f1-score Vs N\n",
        "plt.plot(test_sizes,f1score_test)\n",
        "plt.title(\"F1-score Vs test size\")\n",
        "plt.xlabel(\"test_size\")\n",
        "plt.ylabel(\"F1-score\")\n",
        "plt.show()"
      ],
      "metadata": {
        "colab": {
          "base_uri": "https://localhost:8080/",
          "height": 472
        },
        "id": "YefDyEgb2qbe",
        "outputId": "1ca9419a-5aee-47c4-b1dd-43fec41deb1f"
      },
      "execution_count": null,
      "outputs": [
        {
          "output_type": "display_data",
          "data": {
            "text/plain": [
              "<Figure size 640x480 with 1 Axes>"
            ],
            "image/png": "[encoded data removed]"
          },
          "metadata": {}
        }
      ]
    },
    {
      "cell_type": "markdown",
      "source": [
        "overfitting"
      ],
      "metadata": {
        "id": "5ROHns8g-VVb"
      }
    },
    {
      "cell_type": "code",
      "source": [
        "np.where(f1score_test==max(f1score_test))[0][0]"
      ],
      "metadata": {
        "colab": {
          "base_uri": "https://localhost:8080/"
        },
        "id": "nR7imlYs2eBx",
        "outputId": "3476b720-6d0d-43e5-eb9a-429bdcbe22d4"
      },
      "execution_count": null,
      "outputs": [
        {
          "output_type": "execute_result",
          "data": {
            "text/plain": [
              "2"
            ]
          },
          "metadata": {},
          "execution_count": 67
        }
      ]
    },
    {
      "cell_type": "code",
      "source": [
        "test_sizes[2]"
      ],
      "metadata": {
        "colab": {
          "base_uri": "https://localhost:8080/"
        },
        "id": "iz6qMS6hIjze",
        "outputId": "a122ba93-18c6-4564-e4b0-8b7eb766d368"
      },
      "execution_count": null,
      "outputs": [
        {
          "output_type": "execute_result",
          "data": {
            "text/plain": [
              "0.10400000000000005"
            ]
          },
          "metadata": {},
          "execution_count": 68
        }
      ]
    },
    {
      "cell_type": "code",
      "source": [
        "X_train, X_test, y_train, y_test  = train_test_split(X, y, test_size=0.104, random_state=1, stratify=y)\n",
        "knn_model = train_knn(X_train, y_train,n_neighbors=3)\n",
        "y_hat = test_knn(knn_model,X_test, y_test)"
      ],
      "metadata": {
        "colab": {
          "base_uri": "https://localhost:8080/"
        },
        "id": "Z4xOFf1OiWur",
        "outputId": "e8cead01-b4b2-4be1-9df2-15f98ccc1c86"
      },
      "execution_count": null,
      "outputs": [
        {
          "output_type": "stream",
          "name": "stdout",
          "text": [
            "Training time is 0.011306524276733398 seconds\n",
            "Testing time is 7.649306774139404 seconds\n"
          ]
        }
      ]
    },
    {
      "cell_type": "code",
      "source": [
        "# F1-score and accuracy for 1st model\n",
        "f1_score_method1 = f1_score(y_test,y_hat, average='micro')\n",
        "accuracy_method1 = accuracy_score(y_test,y_hat)\n",
        "print('F1-score is ',f1_score_method1)\n",
        "print('Accuracy is ',accuracy_method1)"
      ],
      "metadata": {
        "colab": {
          "base_uri": "https://localhost:8080/"
        },
        "id": "XZnjF99likaz",
        "outputId": "e765e1b4-12a7-4871-85c0-1f087bdc3ec5"
      },
      "execution_count": null,
      "outputs": [
        {
          "output_type": "stream",
          "name": "stdout",
          "text": [
            "F1-score is  0.9111398485128395\n",
            "Accuracy is  0.9111398485128395\n"
          ]
        }
      ]
    },
    {
      "cell_type": "markdown",
      "source": [
        "## PCA"
      ],
      "metadata": {
        "id": "7ypq-3J3kCpN"
      }
    },
    {
      "cell_type": "code",
      "source": [
        "pca = PCA()\n",
        "pca.fit(X)"
      ],
      "metadata": {
        "colab": {
          "base_uri": "https://localhost:8080/",
          "height": 75
        },
        "id": "aIMowB59iuLv",
        "outputId": "0e2c6fda-9891-4f39-add7-43145e99ef29"
      },
      "execution_count": null,
      "outputs": [
        {
          "output_type": "execute_result",
          "data": {
            "text/plain": [
              "PCA()"
            ],
            "text/html": [
              "<style>#sk-container-id-1 {color: black;background-color: white;}#sk-container-id-1 pre{padding: 0;}#sk-container-id-1 div.sk-toggleable {background-color: white;}#sk-container-id-1 label.sk-toggleable__label {cursor: pointer;display: block;width: 100%;margin-bottom: 0;padding: 0.3em;box-sizing: border-box;text-align: center;}#sk-container-id-1 label.sk-toggleable__label-arrow:before {content: \"▸\";float: left;margin-right: 0.25em;color: #696969;}#sk-container-id-1 label.sk-toggleable__label-arrow:hover:before {color: black;}#sk-container-id-1 div.sk-estimator:hover label.sk-toggleable__label-arrow:before {color: black;}#sk-container-id-1 div.sk-toggleable__content {max-height: 0;max-width: 0;overflow: hidden;text-align: left;background-color: #f0f8ff;}#sk-container-id-1 div.sk-toggleable__content pre {margin: 0.2em;color: black;border-radius: 0.25em;background-color: #f0f8ff;}#sk-container-id-1 input.sk-toggleable__control:checked~div.sk-toggleable__content {max-height: 200px;max-width: 100%;overflow: auto;}#sk-container-id-1 input.sk-toggleable__control:checked~label.sk-toggleable__label-arrow:before {content: \"▾\";}#sk-container-id-1 div.sk-estimator input.sk-toggleable__control:checked~label.sk-toggleable__label {background-color: #d4ebff;}#sk-container-id-1 div.sk-label input.sk-toggleable__control:checked~label.sk-toggleable__label {background-color: #d4ebff;}#sk-container-id-1 input.sk-hidden--visually {border: 0;clip: rect(1px 1px 1px 1px);clip: rect(1px, 1px, 1px, 1px);height: 1px;margin: -1px;overflow: hidden;padding: 0;position: absolute;width: 1px;}#sk-container-id-1 div.sk-estimator {font-family: monospace;background-color: #f0f8ff;border: 1px dotted black;border-radius: 0.25em;box-sizing: border-box;margin-bottom: 0.5em;}#sk-container-id-1 div.sk-estimator:hover {background-color: #d4ebff;}#sk-container-id-1 div.sk-parallel-item::after {content: \"\";width: 100%;border-bottom: 1px solid gray;flex-grow: 1;}#sk-container-id-1 div.sk-label:hover label.sk-toggleable__label {background-color: #d4ebff;}#sk-container-id-1 div.sk-serial::before {content: \"\";position: absolute;border-left: 1px solid gray;box-sizing: border-box;top: 0;bottom: 0;left: 50%;z-index: 0;}#sk-container-id-1 div.sk-serial {display: flex;flex-direction: column;align-items: center;background-color: white;padding-right: 0.2em;padding-left: 0.2em;position: relative;}#sk-container-id-1 div.sk-item {position: relative;z-index: 1;}#sk-container-id-1 div.sk-parallel {display: flex;align-items: stretch;justify-content: center;background-color: white;position: relative;}#sk-container-id-1 div.sk-item::before, #sk-container-id-1 div.sk-parallel-item::before {content: \"\";position: absolute;border-left: 1px solid gray;box-sizing: border-box;top: 0;bottom: 0;left: 50%;z-index: -1;}#sk-container-id-1 div.sk-parallel-item {display: flex;flex-direction: column;z-index: 1;position: relative;background-color: white;}#sk-container-id-1 div.sk-parallel-item:first-child::after {align-self: flex-end;width: 50%;}#sk-container-id-1 div.sk-parallel-item:last-child::after {align-self: flex-start;width: 50%;}#sk-container-id-1 div.sk-parallel-item:only-child::after {width: 0;}#sk-container-id-1 div.sk-dashed-wrapped {border: 1px dashed gray;margin: 0 0.4em 0.5em 0.4em;box-sizing: border-box;padding-bottom: 0.4em;background-color: white;}#sk-container-id-1 div.sk-label label {font-family: monospace;font-weight: bold;display: inline-block;line-height: 1.2em;}#sk-container-id-1 div.sk-label-container {text-align: center;}#sk-container-id-1 div.sk-container {/* jupyter's `normalize.less` sets `[hidden] { display: none; }` but bootstrap.min.css set `[hidden] { display: none !important; }` so we also need the `!important` here to be able to override the default hidden behavior on the sphinx rendered scikit-learn.org. See: https://github.com/scikit-learn/scikit-learn/issues/21755 */display: inline-block !important;position: relative;}#sk-container-id-1 div.sk-text-repr-fallback {display: none;}</style><div id=\"sk-container-id-1\" class=\"sk-top-container\"><div class=\"sk-text-repr-fallback\"><pre>PCA()</pre><b>In a Jupyter environment, please rerun this cell to show the HTML representation or trust the notebook. <br />On GitHub, the HTML representation is unable to render, please try loading this page with nbviewer.org.</b></div><div class=\"sk-container\" hidden><div class=\"sk-item\"><div class=\"sk-estimator sk-toggleable\"><input class=\"sk-toggleable__control sk-hidden--visually\" id=\"sk-estimator-id-1\" type=\"checkbox\" checked><label for=\"sk-estimator-id-1\" class=\"sk-toggleable__label sk-toggleable__label-arrow\">PCA</label><div class=\"sk-toggleable__content\"><pre>PCA()</pre></div></div></div></div></div>"
            ]
          },
          "metadata": {},
          "execution_count": 71
        }
      ]
    },
    {
      "cell_type": "code",
      "source": [
        "pca.explained_variance_"
      ],
      "metadata": {
        "colab": {
          "base_uri": "https://localhost:8080/"
        },
        "id": "Zgh2XOs1kXN8",
        "outputId": "e87aa350-4933-41ca-da1b-d91676027b1c"
      },
      "execution_count": null,
      "outputs": [
        {
          "output_type": "execute_result",
          "data": {
            "text/plain": [
              "array([1.40603441e+01, 7.40791804e+00, 4.84876093e+00, 3.67611568e+00,\n",
              "       3.55456980e+00, 2.39801607e+00, 2.17624347e+00, 2.00814559e+00,\n",
              "       1.79338746e+00, 1.76018428e+00, 1.70179674e+00, 1.63748689e+00,\n",
              "       1.53717247e+00, 1.39734640e+00, 1.37571670e+00, 1.29641445e+00,\n",
              "       1.23677078e+00, 1.16362090e+00, 1.11822453e+00, 1.09123550e+00,\n",
              "       1.05835158e+00, 1.04006559e+00, 9.97626272e-01, 9.81603887e-01,\n",
              "       9.72011091e-01, 9.17517097e-01, 9.03748131e-01, 8.04340377e-01,\n",
              "       7.78549494e-01, 7.54664077e-01, 7.27245759e-01, 6.44524730e-01,\n",
              "       6.09996098e-01, 6.01264989e-01, 5.58004650e-01, 5.54013532e-01,\n",
              "       5.38073607e-01, 5.27035091e-01, 4.86427849e-01, 4.57042984e-01,\n",
              "       4.39260709e-01, 4.19983131e-01, 4.10844469e-01, 3.93133845e-01,\n",
              "       3.55904413e-01, 3.44755709e-01, 3.35815390e-01, 3.15409594e-01,\n",
              "       2.74264996e-01, 2.70896026e-01, 2.59473704e-01, 2.46702331e-01,\n",
              "       2.42697258e-01, 2.04188001e-01, 1.59375101e-01, 1.55136863e-01,\n",
              "       1.44831293e-01, 1.35028557e-01, 1.34132794e-01, 1.25743136e-01,\n",
              "       9.09554595e-02, 8.63999897e-02, 8.52235216e-02, 7.80629776e-02,\n",
              "       5.92274984e-02, 1.53504031e-02, 1.45990012e-02, 1.29288346e-02,\n",
              "       1.10131374e-02, 9.56994049e-03, 7.29192998e-03, 3.00871660e-03,\n",
              "       2.29721015e-03, 1.95791061e-03, 1.61028275e-03, 1.00700350e-03,\n",
              "       6.35825324e-04, 4.54747993e-04, 6.35604506e-32])"
            ]
          },
          "metadata": {},
          "execution_count": 72
        }
      ]
    },
    {
      "cell_type": "code",
      "source": [
        "# Scree plot\n",
        "from matplotlib.pyplot import figure\n",
        "figure(figsize=(10, 4))\n",
        "percentage_info_captured = pca.explained_variance_*100/np.sum(pca.explained_variance_)\n",
        "x = range(0,79)\n",
        "plt.plot(x,percentage_info_captured)"
      ],
      "metadata": {
        "colab": {
          "base_uri": "https://localhost:8080/",
          "height": 386
        },
        "id": "BfXNPnV7kc-w",
        "outputId": "863d0dca-5fe3-4000-e91e-a72e4b8e6ce9"
      },
      "execution_count": null,
      "outputs": [
        {
          "output_type": "execute_result",
          "data": {
            "text/plain": [
              "[<matplotlib.lines.Line2D at 0x7f0148c79a60>]"
            ]
          },
          "metadata": {},
          "execution_count": 73
        },
        {
          "output_type": "display_data",
          "data": {
            "text/plain": [
              "<Figure size 1000x400 with 1 Axes>"
            ],
            "image/png": "[encoded data removed]"
          },
          "metadata": {}
        }
      ]
    },
    {
      "cell_type": "code",
      "source": [
        "percentage_info_captured[:30]"
      ],
      "metadata": {
        "colab": {
          "base_uri": "https://localhost:8080/"
        },
        "id": "qauZIjqilyiL",
        "outputId": "30bfdbc2-d4ac-4e27-9bb0-4e54f61d9080"
      },
      "execution_count": null,
      "outputs": [
        {
          "output_type": "execute_result",
          "data": {
            "text/plain": [
              "array([18.01228542,  9.53405667,  6.23524057,  4.69708388,  4.53159454,\n",
              "        3.06439085,  2.78472944,  2.58180836,  2.29972949,  2.24582861,\n",
              "        2.19248621,  2.09039414,  1.96895646,  1.7956204 ,  1.75227719,\n",
              "        1.66057639,  1.58932482,  1.49082404,  1.43674589,  1.40466119,\n",
              "        1.35932369,  1.31960027,  1.28176742,  1.25824419,  1.2470506 ,\n",
              "        1.18647537,  1.16213529,  1.03613078,  0.99908608,  0.96995278])"
            ]
          },
          "metadata": {},
          "execution_count": 127
        }
      ]
    },
    {
      "cell_type": "code",
      "source": [
        "np.sum(percentage_info_captured[:12])"
      ],
      "metadata": {
        "colab": {
          "base_uri": "https://localhost:8080/"
        },
        "id": "K-BVp4UDmCRt",
        "outputId": "5b647cd2-41a6-4e67-d5aa-ec93dbe28226"
      },
      "execution_count": null,
      "outputs": [
        {
          "output_type": "execute_result",
          "data": {
            "text/plain": [
              "60.28527855088123"
            ]
          },
          "metadata": {},
          "execution_count": 74
        }
      ]
    },
    {
      "cell_type": "code",
      "source": [
        "# consider first k principal components\n",
        "f1score = []\n",
        "accuracy = []\n",
        "for i in range(12,62,2):\n",
        "  pca = PCA(n_components=i)\n",
        "  pca.fit(X)\n",
        "  X_reduced = pca.transform(X)\n",
        "  X_train_reduced, X_test_reduced, y_train_reduced, y_test_reduced  = train_test_split(X_reduced, y, test_size=0.104, random_state=1, stratify=y)\n",
        "  knn_model_reduced = train_knn(X_train_reduced, y_train_reduced,n_neighbors=3)\n",
        "  y_hat_reduced = test_knn(knn_model_reduced,X_test_reduced, y_test_reduced)\n",
        "  f1score.append(f1_score(y_test_reduced,y_hat_reduced, average='micro'))\n",
        "  accuracy.append(accuracy_score(y_test_reduced,y_hat_reduced))"
      ],
      "metadata": {
        "id": "f3pBvAehmGBF"
      },
      "execution_count": null,
      "outputs": []
    },
    {
      "cell_type": "code",
      "source": [
        "n_comp = [i for i in range(12,62,2)]\n",
        "plt.plot(n_comp ,f1score,label='train')\n",
        "# plt.plot(n_comp ,f1score_test,label='test')\n",
        "# plt.legend()\n",
        "plt.title(\"F1-score Vs number of PCA components\")\n",
        "plt.xlabel(\"n_comp\")\n",
        "plt.ylabel(\"F1-score\")\n",
        "plt.show()"
      ],
      "metadata": {
        "colab": {
          "base_uri": "https://localhost:8080/",
          "height": 472
        },
        "id": "gZDe5AXSscRu",
        "outputId": "3a59e4e8-b92d-4921-c11c-976ccfbb2916"
      },
      "execution_count": null,
      "outputs": [
        {
          "output_type": "display_data",
          "data": {
            "text/plain": [
              "<Figure size 640x480 with 1 Axes>"
            ],
            "image/png": "[encoded data removed]"
          },
          "metadata": {}
        }
      ]
    },
    {
      "cell_type": "code",
      "source": [
        "12+2*np.where(f1score==max(f1score))[0][0]"
      ],
      "metadata": {
        "colab": {
          "base_uri": "https://localhost:8080/"
        },
        "id": "LzVNZY3ev305",
        "outputId": "f74128de-b201-4f34-d322-9b6c645509a8"
      },
      "execution_count": null,
      "outputs": [
        {
          "output_type": "execute_result",
          "data": {
            "text/plain": [
              "44"
            ]
          },
          "metadata": {},
          "execution_count": 77
        }
      ]
    },
    {
      "cell_type": "code",
      "source": [
        "np.sum(percentage_info_captured[:44])"
      ],
      "metadata": {
        "colab": {
          "base_uri": "https://localhost:8080/"
        },
        "id": "LePQqrk1tgzX",
        "outputId": "4bd1287a-abf3-4dd3-bd14-b6979ea3b2e6"
      },
      "execution_count": null,
      "outputs": [
        {
          "output_type": "execute_result",
          "data": {
            "text/plain": [
              "95.5317231415686"
            ]
          },
          "metadata": {},
          "execution_count": 78
        }
      ]
    },
    {
      "cell_type": "code",
      "source": [
        "# perform PCA for optimal number of components- 44\n",
        "pca = PCA(n_components=44)\n",
        "pca.fit(X)\n",
        "# transform the data to be represented in the basis of the principal components\n",
        "X_reduced = pca.transform(X)"
      ],
      "metadata": {
        "id": "LmByzVgZmU1Q"
      },
      "execution_count": null,
      "outputs": []
    },
    {
      "cell_type": "code",
      "source": [
        "X_train_reduced, X_test_reduced, y_train_reduced, y_test_reduced  = train_test_split(X_reduced, y, test_size=0.104, random_state=1, stratify=y)"
      ],
      "metadata": {
        "id": "uUdwrqwmmkId"
      },
      "execution_count": null,
      "outputs": []
    },
    {
      "cell_type": "code",
      "source": [
        "knn_model_reduced = train_knn(X_train_reduced, y_train_reduced,n_neighbors=3)\n",
        "y_hat_reduced = test_knn(knn_model_reduced,X_test_reduced, y_test_reduced)"
      ],
      "metadata": {
        "colab": {
          "base_uri": "https://localhost:8080/"
        },
        "id": "6WnyOjGkn8iU",
        "outputId": "b20616e5-9c54-4c17-ca15-6f684b06282e"
      },
      "execution_count": null,
      "outputs": [
        {
          "output_type": "stream",
          "name": "stdout",
          "text": [
            "Training time is 0.017216920852661133 seconds\n",
            "Testing time is 11.332757711410522 seconds\n"
          ]
        }
      ]
    },
    {
      "cell_type": "code",
      "source": [
        "# F1-score and accuracy for 2nd model\n",
        "f1_score_method2 = f1_score(y_test_reduced,y_hat_reduced, average='micro')\n",
        "accuracy_method2 = accuracy_score(y_test_reduced,y_hat_reduced)\n",
        "print('F1-score is ',f1_score_method2)\n",
        "print('Accuracy is ',accuracy_method2)"
      ],
      "metadata": {
        "colab": {
          "base_uri": "https://localhost:8080/"
        },
        "id": "IgMT0f9FoEoC",
        "outputId": "c0fc9ca4-67fc-444c-b6f2-e4bd34afc524"
      },
      "execution_count": null,
      "outputs": [
        {
          "output_type": "stream",
          "name": "stdout",
          "text": [
            "F1-score is  0.9179752447810826\n",
            "Accuracy is  0.9179752447810826\n"
          ]
        }
      ]
    },
    {
      "cell_type": "code",
      "source": [
        "(f1_score_method2-f1_score_method1)*100/f1_score_method1\n"
      ],
      "metadata": {
        "id": "EKBJkXEnpNlN"
      },
      "execution_count": null,
      "outputs": []
    },
    {
      "cell_type": "markdown",
      "source": [
        "## Kernel PCA"
      ],
      "metadata": {
        "id": "3ptsHqvPwbkD"
      }
    },
    {
      "cell_type": "code",
      "source": [
        "from sklearn.decomposition import KernelPCA"
      ],
      "metadata": {
        "id": "lQVSrYwU2Gwy"
      },
      "execution_count": null,
      "outputs": []
    },
    {
      "cell_type": "code",
      "source": [
        "X_kpca = np.concatenate([X[:5200],X[-5200:]],axis=0)\n",
        "y_kpca = np.concatenate([y[:5200],y[-5200:]],axis=0)"
      ],
      "metadata": {
        "id": "MdheNBkBy9rF"
      },
      "execution_count": null,
      "outputs": []
    },
    {
      "cell_type": "code",
      "source": [
        "X_kpca.shape"
      ],
      "metadata": {
        "colab": {
          "base_uri": "https://localhost:8080/"
        },
        "id": "SojK4UwqzaPL",
        "outputId": "0646ae00-f403-4aa4-bd24-0c1c5949281b"
      },
      "execution_count": null,
      "outputs": [
        {
          "output_type": "execute_result",
          "data": {
            "text/plain": [
              "(10400, 79)"
            ]
          },
          "metadata": {},
          "execution_count": 30
        }
      ]
    },
    {
      "cell_type": "code",
      "source": [
        "y_kpca[5200:]"
      ],
      "metadata": {
        "colab": {
          "base_uri": "https://localhost:8080/"
        },
        "id": "cdG1Wypczbwg",
        "outputId": "44b98204-ebbd-44a4-d3d0-439bed78f95c"
      },
      "execution_count": null,
      "outputs": [
        {
          "output_type": "execute_result",
          "data": {
            "text/plain": [
              "array([1, 1, 1, ..., 1, 1, 1])"
            ]
          },
          "metadata": {},
          "execution_count": 31
        }
      ]
    },
    {
      "cell_type": "code",
      "source": [
        "# select components (from pca) and kernel, try other kernels as well\n",
        "start_time = time.time()\n",
        "transformer = KernelPCA(n_components=79, kernel='poly')\n",
        "X_transformed = transformer.fit_transform(X_kpca)\n",
        "X_transformed.shape\n",
        "end_time = time.time()\n",
        "print('Time required is ', end_time-start_time)"
      ],
      "metadata": {
        "id": "Mwhv_wTRrbmg",
        "colab": {
          "base_uri": "https://localhost:8080/"
        },
        "outputId": "dfd17867-6557-47b8-9d21-f33b4e38a003"
      },
      "execution_count": null,
      "outputs": [
        {
          "output_type": "stream",
          "name": "stdout",
          "text": [
            "Time required is  176.98220086097717\n"
          ]
        }
      ]
    },
    {
      "cell_type": "code",
      "source": [
        "transformer.eigenvalues_"
      ],
      "metadata": {
        "colab": {
          "base_uri": "https://localhost:8080/"
        },
        "id": "wtfTgbij9FQd",
        "outputId": "20735536-18c3-45ba-eb36-4c62e8cebbf4"
      },
      "execution_count": null,
      "outputs": [
        {
          "output_type": "execute_result",
          "data": {
            "text/plain": [
              "array([10961.98268362,  6859.78774909,  3379.56489449,  2239.71634603,\n",
              "        1910.1758824 ,  1733.23450136,  1671.80673047,  1537.43568364,\n",
              "        1474.86607319,  1359.0379675 ,  1190.0061241 ,  1116.25931667,\n",
              "        1075.10025178,  1061.0853304 ,   963.350568  ,   936.22217264,\n",
              "         871.46848216,   824.94590319,   776.86800789,   763.65937381,\n",
              "         730.07082966,   715.79292185,   698.29810628,   680.29790589,\n",
              "         666.70581998,   626.38335875,   599.19236168,   573.00604777,\n",
              "         555.55961461,   519.20837257,   509.49817546,   486.90350968,\n",
              "         482.19575398,   453.26911743,   435.78153775,   421.57385955,\n",
              "         402.06467357,   388.60387697,   375.52100086,   364.11290313,\n",
              "         358.26249883,   346.49320832,   332.05568902,   330.24347229])"
            ]
          },
          "metadata": {},
          "execution_count": 102
        }
      ]
    },
    {
      "cell_type": "code",
      "source": [
        "X_transformed.shape"
      ],
      "metadata": {
        "colab": {
          "base_uri": "https://localhost:8080/"
        },
        "id": "CYT83oQaxfRU",
        "outputId": "78af33d5-6806-4acf-dab8-45842c38aa11"
      },
      "execution_count": null,
      "outputs": [
        {
          "output_type": "execute_result",
          "data": {
            "text/plain": [
              "(10400, 79)"
            ]
          },
          "metadata": {},
          "execution_count": 35
        }
      ]
    },
    {
      "cell_type": "code",
      "source": [
        "# consider first k principal components\n",
        "start_time = time.time()\n",
        "from collections import defaultdict\n",
        "f1score_transformed = defaultdict(list)\n",
        "accuracy_transformed = defaultdict(list)\n",
        "n_components = [i for i in range(60,110,10)]\n",
        "kernels = ['linear', 'poly', 'rbf', 'sigmoid']\n",
        "for i in n_components:\n",
        "  for j in kernels:\n",
        "    transformer = KernelPCA(n_components=i,kernel=j)\n",
        "    X_transformed = transformer.fit_transform(X_kpca)\n",
        "    X_train_transformed, X_test_transformed, y_train_transformed, y_test_transformed  = train_test_split(X_transformed, y_kpca, test_size=0.104, random_state=1, stratify=y_kpca)\n",
        "    knn_model_transformed = train_knn(X_train_transformed, y_train_transformed,n_neighbors=3)\n",
        "    y_hat_transformed = test_knn(knn_model_transformed,X_test_transformed, y_test_transformed)\n",
        "    f1score_transformed[j].append(f1_score(y_test_transformed,y_hat_transformed, average='micro'))\n",
        "    accuracy_transformed[j].append(accuracy_score(y_test_transformed,y_hat_transformed))\n",
        "end_time = time.time()"
      ],
      "metadata": {
        "id": "nUhpL-_oBDuc"
      },
      "execution_count": null,
      "outputs": []
    },
    {
      "cell_type": "code",
      "source": [
        "print('Time required is ', end_time-start_time)"
      ],
      "metadata": {
        "colab": {
          "base_uri": "https://localhost:8080/"
        },
        "id": "om2KwD5jNEdd",
        "outputId": "6a041cfd-8f68-4455-a672-1014161ac1ba"
      },
      "execution_count": null,
      "outputs": [
        {
          "output_type": "stream",
          "name": "stdout",
          "text": [
            "Time required is  3158.378203868866\n"
          ]
        }
      ]
    },
    {
      "cell_type": "code",
      "source": [
        "f1score_transformed"
      ],
      "metadata": {
        "colab": {
          "base_uri": "https://localhost:8080/"
        },
        "id": "Pg0P4UIj8bHq",
        "outputId": "0b0701f4-d072-4b0e-feb9-c0a3d8254d27"
      },
      "execution_count": null,
      "outputs": [
        {
          "output_type": "execute_result",
          "data": {
            "text/plain": [
              "defaultdict(list,\n",
              "            {'linear': [0.8401109057301294,\n",
              "              0.8438077634011091,\n",
              "              0.8438077634011091,\n",
              "              0.8438077634011091,\n",
              "              0.8438077634011091],\n",
              "             'poly': [0.8234750462107209,\n",
              "              0.8354898336414047,\n",
              "              0.8419593345656192,\n",
              "              0.8410351201478743,\n",
              "              0.8410351201478743],\n",
              "             'rbf': [0.8539741219963033,\n",
              "              0.8521256931608133,\n",
              "              0.8521256931608133,\n",
              "              0.8502772643253235,\n",
              "              0.8512014787430683],\n",
              "             'sigmoid': [0.8364140480591498,\n",
              "              0.8317929759704251,\n",
              "              0.8317929759704251,\n",
              "              0.8317929759704251,\n",
              "              0.8299445471349353]})"
            ]
          },
          "metadata": {},
          "execution_count": 40
        }
      ]
    },
    {
      "cell_type": "code",
      "source": [
        "accuracy_transformed"
      ],
      "metadata": {
        "colab": {
          "base_uri": "https://localhost:8080/"
        },
        "id": "_y7qo94j8ciZ",
        "outputId": "05e9edba-925c-416f-fff3-f479344f16c8"
      },
      "execution_count": null,
      "outputs": [
        {
          "output_type": "execute_result",
          "data": {
            "text/plain": [
              "defaultdict(list,\n",
              "            {'linear': [0.8401109057301294,\n",
              "              0.8438077634011091,\n",
              "              0.8438077634011091,\n",
              "              0.8438077634011091,\n",
              "              0.8438077634011091],\n",
              "             'poly': [0.8234750462107209,\n",
              "              0.8354898336414048,\n",
              "              0.8419593345656192,\n",
              "              0.8410351201478743,\n",
              "              0.8410351201478743],\n",
              "             'rbf': [0.8539741219963032,\n",
              "              0.8521256931608133,\n",
              "              0.8521256931608133,\n",
              "              0.8502772643253235,\n",
              "              0.8512014787430684],\n",
              "             'sigmoid': [0.8364140480591498,\n",
              "              0.8317929759704251,\n",
              "              0.8317929759704251,\n",
              "              0.8317929759704251,\n",
              "              0.8299445471349353]})"
            ]
          },
          "metadata": {},
          "execution_count": 41
        }
      ]
    },
    {
      "cell_type": "markdown",
      "source": [
        "RBF kernel with 60 components gives the best performance metrics with the given computational resources and dataset size"
      ],
      "metadata": {
        "id": "hsMCqENdKLwm"
      }
    },
    {
      "cell_type": "code",
      "source": [
        "# tune the hyperparameter gamma\n",
        "gamma = [0.01,0.05,0.1,0.5,1,2,5,10]\n",
        "len(gamma)"
      ],
      "metadata": {
        "colab": {
          "base_uri": "https://localhost:8080/"
        },
        "id": "YY596C1XKhz7",
        "outputId": "c3e6dad8-e02b-40fa-d690-09f9238685c5"
      },
      "execution_count": null,
      "outputs": [
        {
          "output_type": "execute_result",
          "data": {
            "text/plain": [
              "8"
            ]
          },
          "metadata": {},
          "execution_count": 52
        }
      ]
    },
    {
      "cell_type": "code",
      "source": [
        "gamma = [0.01,0.05,0.1,0.5,1,2,5,10]\n",
        "start_time = time.time()\n",
        "\n",
        "f1score_transformed_rbf = []\n",
        "accuracy_transformed_rbf = []\n",
        "for g in gamma:\n",
        "  transformer = KernelPCA(n_components=60,kernel='rbf',gamma=g)\n",
        "  X_transformed = transformer.fit_transform(X_kpca)\n",
        "  X_train_transformed, X_test_transformed, y_train_transformed, y_test_transformed  = train_test_split(X_transformed, y_kpca, test_size=0.104, random_state=1, stratify=y_kpca)\n",
        "  knn_model_transformed = train_knn(X_train_transformed, y_train_transformed,n_neighbors=3)\n",
        "  y_hat_transformed = test_knn(knn_model_transformed,X_test_transformed, y_test_transformed)\n",
        "  f1score_transformed_rbf.append(f1_score(y_test_transformed,y_hat_transformed, average='micro'))\n",
        "  accuracy_transformed_rbf.append(accuracy_score(y_test_transformed,y_hat_transformed))\n",
        "end_time = time.time()\n",
        "\n"
      ],
      "metadata": {
        "colab": {
          "base_uri": "https://localhost:8080/"
        },
        "id": "gpV5GX43Mxl0",
        "outputId": "fa5616d6-1fe3-4986-d098-8df505296848"
      },
      "execution_count": null,
      "outputs": [
        {
          "output_type": "stream",
          "name": "stdout",
          "text": [
            "Training time is 0.002332448959350586 seconds\n",
            "Testing time is 0.1734752655029297 seconds\n",
            "Training time is 0.0022957324981689453 seconds\n",
            "Testing time is 0.1420581340789795 seconds\n",
            "Training time is 0.002203702926635742 seconds\n",
            "Testing time is 0.17864775657653809 seconds\n",
            "Training time is 0.00222015380859375 seconds\n",
            "Testing time is 0.1748485565185547 seconds\n",
            "Training time is 0.002247333526611328 seconds\n",
            "Testing time is 0.1667802333831787 seconds\n",
            "Training time is 0.005215644836425781 seconds\n",
            "Testing time is 0.3051304817199707 seconds\n",
            "Training time is 0.0023009777069091797 seconds\n",
            "Testing time is 0.1658313274383545 seconds\n",
            "Training time is 0.002279043197631836 seconds\n",
            "Testing time is 0.17759323120117188 seconds\n"
          ]
        }
      ]
    },
    {
      "cell_type": "code",
      "source": [
        "f1score_transformed_rbf"
      ],
      "metadata": {
        "colab": {
          "base_uri": "https://localhost:8080/"
        },
        "id": "CA2sI-9xOlBg",
        "outputId": "51979362-5df6-44c1-de8f-080b7823828a"
      },
      "execution_count": null,
      "outputs": [
        {
          "output_type": "execute_result",
          "data": {
            "text/plain": [
              "[0.8502772643253235,\n",
              " 0.8151571164510166,\n",
              " 0.8133086876155268,\n",
              " 0.7218114602587801,\n",
              " 0.7412199630314233,\n",
              " 0.6913123844731978,\n",
              " 0.6617375231053605,\n",
              " 0.5720887245841035]"
            ]
          },
          "metadata": {},
          "execution_count": 62
        }
      ]
    },
    {
      "cell_type": "code",
      "source": [
        "accuracy_transformed_rbf"
      ],
      "metadata": {
        "colab": {
          "base_uri": "https://localhost:8080/"
        },
        "id": "AbnkCvxtO6iv",
        "outputId": "30f41d68-3d03-4a29-89a7-e92e10742b5e"
      },
      "execution_count": null,
      "outputs": [
        {
          "output_type": "execute_result",
          "data": {
            "text/plain": [
              "[0.8502772643253235,\n",
              " 0.8151571164510166,\n",
              " 0.8133086876155268,\n",
              " 0.7218114602587801,\n",
              " 0.7412199630314233,\n",
              " 0.6913123844731978,\n",
              " 0.6617375231053605,\n",
              " 0.5720887245841035]"
            ]
          },
          "metadata": {},
          "execution_count": 63
        }
      ]
    },
    {
      "cell_type": "code",
      "source": [
        "print('Time required is ', end_time-start_time)"
      ],
      "metadata": {
        "colab": {
          "base_uri": "https://localhost:8080/"
        },
        "id": "btBqMhlpNdqT",
        "outputId": "ccba47fd-1844-4c1e-fe69-e783b9e0e1c8"
      },
      "execution_count": null,
      "outputs": [
        {
          "output_type": "stream",
          "name": "stdout",
          "text": [
            "Time required is  1347.465002298355\n"
          ]
        }
      ]
    },
    {
      "cell_type": "code",
      "source": [
        "transformer = KernelPCA(n_components=60,kernel='rbf',gamma=0.01)\n",
        "X_transformed = transformer.fit_transform(X_kpca)"
      ],
      "metadata": {
        "id": "U46xizZWOvMz"
      },
      "execution_count": null,
      "outputs": []
    },
    {
      "cell_type": "code",
      "source": [
        "X_train_transformed, X_test_transformed, y_train_transformed, y_test_transformed  = train_test_split(X_transformed, y_kpca, test_size=0.104, random_state=1, stratify=y_kpca)"
      ],
      "metadata": {
        "id": "6_QhIxaHptnD"
      },
      "execution_count": null,
      "outputs": []
    },
    {
      "cell_type": "code",
      "source": [
        "knn_model_transformed = train_knn(X_train_transformed, y_train_transformed,n_neighbors=3)\n",
        "y_hat_transformed = test_knn(knn_model_transformed,X_test_transformed, y_test_transformed)"
      ],
      "metadata": {
        "colab": {
          "base_uri": "https://localhost:8080/"
        },
        "id": "_rKSvKFtsgdz",
        "outputId": "f4f3acf6-f8e5-4b70-9932-f36afa46ea57"
      },
      "execution_count": null,
      "outputs": [
        {
          "output_type": "stream",
          "name": "stdout",
          "text": [
            "Training time is 0.004533290863037109 seconds\n",
            "Testing time is 0.10914182662963867 seconds\n"
          ]
        }
      ]
    },
    {
      "cell_type": "code",
      "source": [
        "# F1-score and accuracy for 2nd model\n",
        "f1_score_method3 = f1_score(y_test_transformed,y_hat_transformed, average='micro')\n",
        "accuracy_method3 = accuracy_score(y_test_transformed,y_hat_transformed)\n",
        "print('F1-score is ',f1_score_method3)\n",
        "print('Accuracy is ',accuracy_method3)"
      ],
      "metadata": {
        "colab": {
          "base_uri": "https://localhost:8080/"
        },
        "id": "MY3nw7ujsyHd",
        "outputId": "9d7ebdb4-cd91-49f2-ad30-9ac5d39423d4"
      },
      "execution_count": null,
      "outputs": [
        {
          "output_type": "stream",
          "name": "stdout",
          "text": [
            "F1-score is  0.8502772643253235\n",
            "Accuracy is  0.8502772643253235\n"
          ]
        }
      ]
    },
    {
      "cell_type": "markdown",
      "source": [
        "## Autoencoder"
      ],
      "metadata": {
        "id": "ifOMQttUbtsJ"
      }
    },
    {
      "cell_type": "code",
      "source": [
        "tf.random.set_seed(1)"
      ],
      "metadata": {
        "id": "HgeEnWvPpOJ3"
      },
      "execution_count": null,
      "outputs": []
    },
    {
      "cell_type": "code",
      "source": [
        "start_time = time.time()\n",
        "n = [i for i in range(30,80,5)]\n",
        "f1score_encoded = defaultdict(list)\n",
        "accuracy_encoded = defaultdict(list)\n",
        "activations = ['relu','sigmoid','softmax','tanh','exponential']\n",
        "for i in n:\n",
        "  for j in activations:\n",
        "    n_components = i\n",
        "    input_data = keras.Input(shape=(79,))\n",
        "    encoded = layers.Dense(n_components, activation=j)(input_data)\n",
        "    # decoded = layers.Dense(79, activation=j)(encoded)\n",
        "    encoder = keras.Model(input_data, encoded)\n",
        "    encoded_data= encoder.predict(X)\n",
        "    X_train, X_test, y_train, y_test  = train_test_split(encoded_data, y, test_size=0.104, random_state=1, stratify=y)\n",
        "    knn_model_encoded = train_knn(X_train, y_train,n_neighbors=3)\n",
        "    y_hat_encoded = test_knn(knn_model_encoded,X_test, y_test)\n",
        "    f1score_encoded[j].append(f1_score(y_test,y_hat_encoded, average='micro'))\n",
        "    accuracy_encoded[j].append(accuracy_score(y_test,y_hat_encoded))\n",
        "\n",
        "end_time = time.time()"
      ],
      "metadata": {
        "colab": {
          "base_uri": "https://localhost:8080/"
        },
        "id": "jYFKc3Lvbv5v",
        "outputId": "6515ba3c-a0d0-478a-a9a2-ca7db33e82c9"
      },
      "execution_count": null,
      "outputs": [
        {
          "output_type": "stream",
          "name": "stdout",
          "text": [
            "3253/3253 [==============================] - 4s 1ms/step\n",
            "Training time is 0.007202625274658203 seconds\n",
            "Testing time is 5.349573135375977 seconds\n",
            "3253/3253 [==============================] - 5s 1ms/step\n",
            "Training time is 0.01016092300415039 seconds\n",
            "Testing time is 9.852611064910889 seconds\n",
            "3253/3253 [==============================] - 4s 1ms/step\n",
            "Training time is 0.007139921188354492 seconds\n",
            "Testing time is 7.312535524368286 seconds\n",
            "3253/3253 [==============================] - 4s 1ms/step\n",
            "Training time is 0.007489442825317383 seconds\n",
            "Testing time is 6.284998893737793 seconds\n",
            "3253/3253 [==============================] - 6s 2ms/step\n",
            "Training time is 0.007044076919555664 seconds\n",
            "Testing time is 5.183207273483276 seconds\n",
            "3253/3253 [==============================] - 5s 2ms/step\n",
            "Training time is 0.0073511600494384766 seconds\n",
            "Testing time is 5.4832563400268555 seconds\n",
            "3253/3253 [==============================] - 4s 1ms/step\n",
            "Training time is 0.007297039031982422 seconds\n",
            "Testing time is 5.51139235496521 seconds\n",
            "3253/3253 [==============================] - 5s 2ms/step\n",
            "Training time is 0.007435798645019531 seconds\n",
            "Testing time is 5.454325199127197 seconds\n",
            "3253/3253 [==============================] - 4s 1ms/step\n",
            "Training time is 0.010750532150268555 seconds\n",
            "Testing time is 6.537808895111084 seconds\n",
            "3253/3253 [==============================] - 4s 1ms/step\n",
            "Training time is 0.008152008056640625 seconds\n",
            "Testing time is 7.6729466915130615 seconds\n",
            "3253/3253 [==============================] - 4s 1ms/step\n",
            "Training time is 0.007285594940185547 seconds\n",
            "Testing time is 8.04491901397705 seconds\n",
            "3253/3253 [==============================] - 4s 1ms/step\n",
            "Training time is 0.009281158447265625 seconds\n",
            "Testing time is 7.2121806144714355 seconds\n",
            "3253/3253 [==============================] - 4s 1ms/step\n",
            "Training time is 0.0074465274810791016 seconds\n",
            "Testing time is 5.715190410614014 seconds\n",
            "3253/3253 [==============================] - 5s 2ms/step\n",
            "Training time is 0.007452249526977539 seconds\n",
            "Testing time is 6.94937801361084 seconds\n",
            "3253/3253 [==============================] - 4s 1ms/step\n",
            "Training time is 0.007296085357666016 seconds\n",
            "Testing time is 7.87876033782959 seconds\n",
            "3253/3253 [==============================] - 4s 1ms/step\n",
            "Training time is 0.007582664489746094 seconds\n",
            "Testing time is 7.940173864364624 seconds\n",
            "3253/3253 [==============================] - 4s 1ms/step\n",
            "Training time is 0.007784605026245117 seconds\n",
            "Testing time is 6.6259331703186035 seconds\n",
            "3253/3253 [==============================] - 5s 1ms/step\n",
            "Training time is 0.007437705993652344 seconds\n",
            "Testing time is 8.035343647003174 seconds\n",
            "3253/3253 [==============================] - 4s 1ms/step\n",
            "Training time is 0.0075418949127197266 seconds\n",
            "Testing time is 7.97516393661499 seconds\n",
            "3253/3253 [==============================] - 5s 2ms/step\n",
            "Training time is 0.007653236389160156 seconds\n",
            "Testing time is 5.835137605667114 seconds\n",
            "3253/3253 [==============================] - 5s 2ms/step\n",
            "Training time is 0.007915735244750977 seconds\n",
            "Testing time is 6.192749977111816 seconds\n",
            "3253/3253 [==============================] - 5s 1ms/step\n",
            "Training time is 0.00785517692565918 seconds\n",
            "Testing time is 6.285629034042358 seconds\n",
            "3253/3253 [==============================] - 5s 2ms/step\n",
            "Training time is 0.0079193115234375 seconds\n",
            "Testing time is 8.442633152008057 seconds\n",
            "3253/3253 [==============================] - 4s 1ms/step\n",
            "Training time is 0.008092880249023438 seconds\n",
            "Testing time is 7.515600919723511 seconds\n",
            "3253/3253 [==============================] - 4s 1ms/step\n",
            "Training time is 0.007672786712646484 seconds\n",
            "Testing time is 8.278631210327148 seconds\n",
            "3253/3253 [==============================] - 4s 1ms/step\n",
            "Training time is 0.008995294570922852 seconds\n",
            "Testing time is 8.582549810409546 seconds\n",
            "3253/3253 [==============================] - 4s 1ms/step\n",
            "Training time is 0.007825613021850586 seconds\n",
            "Testing time is 8.59139108657837 seconds\n",
            "3253/3253 [==============================] - 4s 1ms/step\n",
            "Training time is 0.007890939712524414 seconds\n",
            "Testing time is 8.447691679000854 seconds\n",
            "3253/3253 [==============================] - 4s 1ms/step\n",
            "Training time is 0.007929086685180664 seconds\n",
            "Testing time is 7.3559043407440186 seconds\n",
            "3253/3253 [==============================] - 5s 1ms/step\n",
            "Training time is 0.008100748062133789 seconds\n",
            "Testing time is 6.412703037261963 seconds\n",
            "3253/3253 [==============================] - 5s 2ms/step\n",
            "Training time is 0.008783102035522461 seconds\n",
            "Testing time is 6.712685585021973 seconds\n",
            "3253/3253 [==============================] - 5s 1ms/step\n",
            "Training time is 0.008202791213989258 seconds\n",
            "Testing time is 6.659574747085571 seconds\n",
            "3253/3253 [==============================] - 4s 1ms/step\n",
            "Training time is 0.012161493301391602 seconds\n",
            "Testing time is 7.449120283126831 seconds\n",
            "3253/3253 [==============================] - 4s 1ms/step\n",
            "Training time is 0.008232593536376953 seconds\n",
            "Testing time is 6.798487424850464 seconds\n",
            "3253/3253 [==============================] - 6s 2ms/step\n",
            "Training time is 0.008263587951660156 seconds\n",
            "Testing time is 6.694124460220337 seconds\n",
            "3253/3253 [==============================] - 5s 1ms/step\n",
            "Training time is 0.013063430786132812 seconds\n",
            "Testing time is 7.267260551452637 seconds\n",
            "3253/3253 [==============================] - 4s 1ms/step\n",
            "Training time is 0.012865066528320312 seconds\n",
            "Testing time is 7.8881378173828125 seconds\n",
            "3253/3253 [==============================] - 4s 1ms/step\n",
            "Training time is 0.008798837661743164 seconds\n",
            "Testing time is 6.906134843826294 seconds\n",
            "3253/3253 [==============================] - 5s 2ms/step\n",
            "Training time is 0.008215188980102539 seconds\n",
            "Testing time is 6.855214595794678 seconds\n",
            "3253/3253 [==============================] - 5s 2ms/step\n",
            "Training time is 0.008154869079589844 seconds\n",
            "Testing time is 6.929618835449219 seconds\n",
            "3253/3253 [==============================] - 4s 1ms/step\n",
            "Training time is 0.008275032043457031 seconds\n",
            "Testing time is 7.940776586532593 seconds\n",
            "3253/3253 [==============================] - 5s 1ms/step\n",
            "Training time is 0.008753299713134766 seconds\n",
            "Testing time is 9.302301406860352 seconds\n",
            "3253/3253 [==============================] - 4s 1ms/step\n",
            "Training time is 0.00846242904663086 seconds\n",
            "Testing time is 9.366289377212524 seconds\n",
            "3253/3253 [==============================] - 4s 1ms/step\n",
            "Training time is 0.008644342422485352 seconds\n",
            "Testing time is 9.303707599639893 seconds\n",
            "3253/3253 [==============================] - 4s 1ms/step\n",
            "Training time is 0.008804798126220703 seconds\n",
            "Testing time is 9.281300067901611 seconds\n",
            "3253/3253 [==============================] - 4s 1ms/step\n",
            "Training time is 0.008798599243164062 seconds\n",
            "Testing time is 9.562509775161743 seconds\n",
            "3253/3253 [==============================] - 4s 1ms/step\n",
            "Training time is 0.008889436721801758 seconds\n",
            "Testing time is 11.393368482589722 seconds\n",
            "3253/3253 [==============================] - 4s 1ms/step\n",
            "Training time is 0.013588905334472656 seconds\n",
            "Testing time is 9.503017902374268 seconds\n",
            "3253/3253 [==============================] - 4s 1ms/step\n",
            "Training time is 0.008640766143798828 seconds\n",
            "Testing time is 9.584073066711426 seconds\n",
            "3253/3253 [==============================] - 4s 1ms/step\n",
            "Training time is 0.012404441833496094 seconds\n",
            "Testing time is 9.514217615127563 seconds\n"
          ]
        }
      ]
    },
    {
      "cell_type": "code",
      "source": [
        "f1score_encoded"
      ],
      "metadata": {
        "colab": {
          "base_uri": "https://localhost:8080/"
        },
        "id": "PldmHU2hgrYg",
        "outputId": "c426358a-ca5b-4a43-9036-89de7916a545"
      },
      "execution_count": null,
      "outputs": [
        {
          "output_type": "execute_result",
          "data": {
            "text/plain": [
              "defaultdict(list,\n",
              "            {'relu': [0.8704969517827452,\n",
              "              0.880011084426381,\n",
              "              0.8827821910216146,\n",
              "              0.8960835026787364,\n",
              "              0.8877701828930353,\n",
              "              0.8954369111398485,\n",
              "              0.8943284685017551,\n",
              "              0.8902641788287456,\n",
              "              0.906336597081101,\n",
              "              0.9000554221319047],\n",
              "             'sigmoid': [0.8898946979493811,\n",
              "              0.8953445409200074,\n",
              "              0.8996859412525402,\n",
              "              0.9007943838906337,\n",
              "              0.907814520598559,\n",
              "              0.9030112691668206,\n",
              "              0.9036578607057085,\n",
              "              0.9031960096065028,\n",
              "              0.9007020136707925,\n",
              "              0.9020875669684094],\n",
              "             'softmax': [0.8568261592462592,\n",
              "              0.8713282837613153,\n",
              "              0.8694808793644929,\n",
              "              0.8717901348605209,\n",
              "              0.8737299094771845,\n",
              "              0.8783484204692407,\n",
              "              0.8872159615739885,\n",
              "              0.8811195270644744,\n",
              "              0.8810271568446333,\n",
              "              0.8827821910216146],\n",
              "             'tanh': [0.8931276556438205,\n",
              "              0.8997783114723813,\n",
              "              0.8975614261961944,\n",
              "              0.9038426011453907,\n",
              "              0.9011638647699981,\n",
              "              0.9007943838906337,\n",
              "              0.8993164603731756,\n",
              "              0.9067060779604655,\n",
              "              0.9004249030112691,\n",
              "              0.9051357842231664],\n",
              "             'exponential': [0.861259929798633,\n",
              "              0.8545169037502309,\n",
              "              0.8783484204692407,\n",
              "              0.8681876962867173,\n",
              "              0.8701274709033807,\n",
              "              0.8751154627748015,\n",
              "              0.8799187142065398,\n",
              "              0.8777018289303529,\n",
              "              0.8793644928874931,\n",
              "              0.8757620543136893]})"
            ]
          },
          "metadata": {},
          "execution_count": 128
        }
      ]
    },
    {
      "cell_type": "code",
      "source": [
        "accuracy_encoded"
      ],
      "metadata": {
        "colab": {
          "base_uri": "https://localhost:8080/"
        },
        "id": "ZxTGEpEegsmJ",
        "outputId": "16fd8a2a-14a1-4fbd-c4a8-b0c2083b15ea"
      },
      "execution_count": null,
      "outputs": [
        {
          "output_type": "execute_result",
          "data": {
            "text/plain": [
              "defaultdict(list,\n",
              "            {'relu': [0.8704969517827452,\n",
              "              0.880011084426381,\n",
              "              0.8827821910216146,\n",
              "              0.8960835026787364,\n",
              "              0.8877701828930353,\n",
              "              0.8954369111398485,\n",
              "              0.8943284685017551,\n",
              "              0.8902641788287456,\n",
              "              0.906336597081101,\n",
              "              0.9000554221319047],\n",
              "             'sigmoid': [0.8898946979493811,\n",
              "              0.8953445409200074,\n",
              "              0.8996859412525402,\n",
              "              0.9007943838906337,\n",
              "              0.907814520598559,\n",
              "              0.9030112691668206,\n",
              "              0.9036578607057085,\n",
              "              0.9031960096065028,\n",
              "              0.9007020136707925,\n",
              "              0.9020875669684094],\n",
              "             'softmax': [0.856826159246259,\n",
              "              0.8713282837613153,\n",
              "              0.8694808793644929,\n",
              "              0.8717901348605209,\n",
              "              0.8737299094771845,\n",
              "              0.8783484204692407,\n",
              "              0.8872159615739885,\n",
              "              0.8811195270644744,\n",
              "              0.8810271568446333,\n",
              "              0.8827821910216146],\n",
              "             'tanh': [0.8931276556438205,\n",
              "              0.8997783114723813,\n",
              "              0.8975614261961944,\n",
              "              0.9038426011453907,\n",
              "              0.9011638647699981,\n",
              "              0.9007943838906337,\n",
              "              0.8993164603731757,\n",
              "              0.9067060779604655,\n",
              "              0.9004249030112692,\n",
              "              0.9051357842231664],\n",
              "             'exponential': [0.861259929798633,\n",
              "              0.8545169037502309,\n",
              "              0.8783484204692407,\n",
              "              0.8681876962867172,\n",
              "              0.8701274709033807,\n",
              "              0.8751154627748015,\n",
              "              0.8799187142065398,\n",
              "              0.8777018289303529,\n",
              "              0.8793644928874931,\n",
              "              0.8757620543136893]})"
            ]
          },
          "metadata": {},
          "execution_count": 129
        }
      ]
    },
    {
      "cell_type": "code",
      "source": [
        "print('Time required is ', end_time-start_time)"
      ],
      "metadata": {
        "colab": {
          "base_uri": "https://localhost:8080/"
        },
        "id": "EwnbgcyngAsT",
        "outputId": "9bf2d6f5-43a8-4c37-d7b2-0c72ae7d8838"
      },
      "execution_count": null,
      "outputs": [
        {
          "output_type": "stream",
          "name": "stdout",
          "text": [
            "Time required is  733.9884729385376\n"
          ]
        }
      ]
    },
    {
      "cell_type": "code",
      "source": [
        "start_time = time.time()\n",
        "f1score_encoded_tanh = []\n",
        "accuracy_encoded_tanh = []\n",
        "n = [i for i in range(65,80,2)]\n",
        "for i in range(65,80,2):\n",
        "    n_components = i\n",
        "    input_data = keras.Input(shape=(79,))\n",
        "    encoded = layers.Dense(n_components, activation='tanh')(input_data)\n",
        "    # decoded = layers.Dense(79, activation=j)(encoded)\n",
        "    encoder = keras.Model(input_data, encoded)\n",
        "    encoded_data= encoder.predict(X)\n",
        "    X_train, X_test, y_train, y_test  = train_test_split(encoded_data, y, test_size=0.104, random_state=1, stratify=y)\n",
        "    knn_model_encoded = train_knn(X_train, y_train,n_neighbors=3)\n",
        "    y_hat_encoded = test_knn(knn_model_encoded,X_test, y_test)\n",
        "    f1score_encoded_tanh.append(f1_score(y_test,y_hat_encoded, average='micro'))\n",
        "    accuracy_encoded_tanh.append(accuracy_score(y_test,y_hat_encoded))\n",
        "end_time = time.time()"
      ],
      "metadata": {
        "colab": {
          "base_uri": "https://localhost:8080/"
        },
        "id": "dXrrb6eHmtNg",
        "outputId": "9cb3aaf7-0a3a-48e2-e5fc-ad59db1f0fe4"
      },
      "execution_count": null,
      "outputs": [
        {
          "output_type": "stream",
          "name": "stdout",
          "text": [
            "3253/3253 [==============================] - 4s 1ms/step\n",
            "Training time is 0.012819051742553711 seconds\n",
            "Testing time is 9.046572923660278 seconds\n",
            "3253/3253 [==============================] - 4s 1ms/step\n",
            "Training time is 0.009400367736816406 seconds\n",
            "Testing time is 9.28536605834961 seconds\n",
            "3253/3253 [==============================] - 4s 1ms/step\n",
            "Training time is 0.008493185043334961 seconds\n",
            "Testing time is 9.264983892440796 seconds\n",
            "3253/3253 [==============================] - 4s 1ms/step\n",
            "Training time is 0.010860204696655273 seconds\n",
            "Testing time is 9.383204460144043 seconds\n",
            "3253/3253 [==============================] - 4s 1ms/step\n",
            "Training time is 0.010020732879638672 seconds\n",
            "Testing time is 9.481116771697998 seconds\n",
            "3253/3253 [==============================] - 4s 1ms/step\n",
            "Training time is 0.008614301681518555 seconds\n",
            "Testing time is 9.625948905944824 seconds\n",
            "3253/3253 [==============================] - 4s 1ms/step\n",
            "Training time is 0.008887290954589844 seconds\n",
            "Testing time is 9.646883964538574 seconds\n",
            "3253/3253 [==============================] - 4s 1ms/step\n",
            "Training time is 0.008999824523925781 seconds\n",
            "Testing time is 9.788559436798096 seconds\n"
          ]
        }
      ]
    },
    {
      "cell_type": "code",
      "source": [
        "f1score_encoded_tanh"
      ],
      "metadata": {
        "colab": {
          "base_uri": "https://localhost:8080/"
        },
        "id": "v9NUID7WnaPG",
        "outputId": "a2a9f1f4-938c-43d3-970b-3d7a73210ced"
      },
      "execution_count": null,
      "outputs": [
        {
          "output_type": "execute_result",
          "data": {
            "text/plain": [
              "[0.8983003879549233,\n",
              " 0.9057823757620543,\n",
              " 0.9080916312580823,\n",
              " 0.9066137077406244,\n",
              " 0.9075374099390358,\n",
              " 0.9062442268612599,\n",
              " 0.9036578607057085,\n",
              " 0.9052281544430075]"
            ]
          },
          "metadata": {},
          "execution_count": 132
        }
      ]
    },
    {
      "cell_type": "code",
      "source": [
        "accuracy_encoded_tanh"
      ],
      "metadata": {
        "colab": {
          "base_uri": "https://localhost:8080/"
        },
        "id": "6bw2-0sUnaon",
        "outputId": "2f5439a5-1bbf-4664-ef34-5b0dd0b310ab"
      },
      "execution_count": null,
      "outputs": [
        {
          "output_type": "execute_result",
          "data": {
            "text/plain": [
              "[0.8983003879549233,\n",
              " 0.9057823757620543,\n",
              " 0.9080916312580823,\n",
              " 0.9066137077406244,\n",
              " 0.9075374099390356,\n",
              " 0.9062442268612599,\n",
              " 0.9036578607057085,\n",
              " 0.9052281544430075]"
            ]
          },
          "metadata": {},
          "execution_count": 133
        }
      ]
    },
    {
      "cell_type": "code",
      "source": [
        "print('Time required is ', end_time-start_time)"
      ],
      "metadata": {
        "colab": {
          "base_uri": "https://localhost:8080/"
        },
        "id": "mVCOHGTVnXAb",
        "outputId": "b52cca6e-f50c-4dcf-bc98-5eb833c4e4fb"
      },
      "execution_count": null,
      "outputs": [
        {
          "output_type": "stream",
          "name": "stdout",
          "text": [
            "Time required is  116.7986888885498\n"
          ]
        }
      ]
    },
    {
      "cell_type": "code",
      "source": [
        "n_components = 69\n",
        "input_data = keras.Input(shape=(79,))\n",
        "encoded = layers.Dense(n_components, activation='tanh')(input_data)\n",
        "encoder = keras.Model(input_data, encoded)\n",
        "encoded_data= encoder.predict(X)\n",
        "X_train, X_test, y_train, y_test  = train_test_split(encoded_data, y, test_size=0.104, random_state=1, stratify=y)\n",
        "knn_model_encoded = train_knn(X_train, y_train,n_neighbors=3)\n",
        "y_hat_encoded = test_knn(knn_model_encoded,X_test, y_test)"
      ],
      "metadata": {
        "colab": {
          "base_uri": "https://localhost:8080/"
        },
        "id": "yjKb8RnKdoNo",
        "outputId": "6e21d551-1ff2-4dd7-a8c5-3055300d37a1"
      },
      "execution_count": null,
      "outputs": [
        {
          "output_type": "stream",
          "name": "stdout",
          "text": [
            "3253/3253 [==============================] - 6s 2ms/step\n",
            "Training time is 0.008900642395019531 seconds\n",
            "Testing time is 9.288630962371826 seconds\n"
          ]
        }
      ]
    },
    {
      "cell_type": "code",
      "source": [
        "f1_score_method5 = f1_score(y_test,y_hat_encoded, average='micro')\n",
        "accuracy_method5 = accuracy_score(y_test,y_hat_encoded)\n",
        "print('F1-score is ',f1_score_method5)\n",
        "print('Accuracy is ',accuracy_method5)"
      ],
      "metadata": {
        "colab": {
          "base_uri": "https://localhost:8080/"
        },
        "id": "HcLEmDkreVaW",
        "outputId": "00a680b0-d80b-4bd7-bdea-f681aaba571c"
      },
      "execution_count": null,
      "outputs": [
        {
          "output_type": "stream",
          "name": "stdout",
          "text": [
            "F1-score is  0.9067060779604655\n",
            "Accuracy is  0.9067060779604655\n"
          ]
        }
      ]
    },
    {
      "cell_type": "code",
      "source": [],
      "metadata": {
        "id": "BZBQRfoQs9no"
      },
      "execution_count": null,
      "outputs": []
    }
  ]
}